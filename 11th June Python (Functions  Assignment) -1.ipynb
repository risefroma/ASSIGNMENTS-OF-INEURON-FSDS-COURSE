{
 "cells": [
  {
   "cell_type": "code",
   "execution_count": null,
   "metadata": {
    "id": "L9TsIpLJKrle"
   },
   "outputs": [],
   "source": [
    "'''1. What is a lambda function in Python, and how does it differ from a regular function\n",
    "Lambda functions are small anonymous or nameless functions defined with Lambda keyword\n",
    "They are typically used for simple operations and are often used in conjunction with functions like map(),filter(),and reduce().\n",
    "Lambda functions are useful for small tasks that are not reused throughout the code.\n",
    "\n",
    "Lambda functions are different from regular functions primarily in their syntax and usage. Some key differences include:\n",
    "Syntax:lambda arguments: expression\n",
    "Lambda functions are written on a single line and don't require a return statement.\n",
    "They are more concise compared to regular functions hence reduces code size\n",
    "\n",
    "Scope: Lambda functions are defined at runtime and are anonymous, meaning they don't have a name associated with them.\n",
    "Regular functions are defined using the def keyword and can be accessed by their name.\n",
    "\n",
    "Purpose: Lambda functions are often used for small, simple operations where creating a named function would be overkill.\n",
    "They're commonly used in functional programming paradigms for operations like mapping, filtering, and sorting.'''"
   ]
  },
  {
   "cell_type": "code",
   "execution_count": null,
   "metadata": {
    "colab": {
     "base_uri": "https://localhost:8080/"
    },
    "id": "v9TQaKPzOZ_-",
    "outputId": "edf7dd28-a14b-4c44-cd3d-55d707b82c43"
   },
   "outputs": [
    {
     "name": "stdout",
     "output_type": "stream",
     "text": [
      "Result: 88\n",
      "Average: 20.0\n"
     ]
    }
   ],
   "source": [
    "# #2. Can a lambda function in Python have multiple arguments?If yes,how can you define and use them?\n",
    "# A lambda function can take any number of arguments, but can only have one expression.\n",
    "# We can define and use them by specifying the arguments separated by commas and using a colon to indicate the function body.\n",
    "# Lambda function with 5 arguments\n",
    "multiple_args = lambda a, b, c, d, e: a + b + c + d + e\n",
    "\n",
    "# Example usage\n",
    "result = multiple_args(5,3,49,25,6)\n",
    "print(\"Result:\", result)  # Output: Result: 88\n",
    "\n",
    "average_lambda = lambda x, y, z: (x + y + z) / 3\n",
    "print(\"Average:\", average_lambda(10, 20, 30))  # Output: Average: 20.0"
   ]
  },
  {
   "cell_type": "code",
   "execution_count": null,
   "metadata": {
    "id": "Mw16EHQwaEKz"
   },
   "outputs": [],
   "source": [
    "# 3.How are lambda functions typically used in Python? Provide an example use case.\n",
    "Lambda functions in Python are typically used for short, one-time, or anonymous functions where defining a named function using def would be overkill.\n",
    "They are often used in situations where a small piece of functionality needs to be passed as an argument to another function or operation.\n",
    "Here's an example use case to illustrate how lambda functions are commonly used:\n",
    "\n",
    "Lambda functions in Python are typically used in situations where you need a small, anonymous function for a short period of time.\n",
    "They are often used as arguments to higher-order functions (functions that take other functions as arguments) or in situations\n",
    "where you want to define a function inline without assigning it a name.\n"
   ]
  },
  {
   "cell_type": "code",
   "execution_count": null,
   "metadata": {
    "colab": {
     "base_uri": "https://localhost:8080/"
    },
    "id": "ace_au5DeF61",
    "outputId": "208899fd-beeb-4a76-941a-a2f48cd73f0a"
   },
   "outputs": [
    {
     "name": "stdout",
     "output_type": "stream",
     "text": [
      "Square of 8 is: 64\n"
     ]
    }
   ],
   "source": [
    "# 6. Write a lambda function to calculate the square of a given number.\n",
    "square_lambda = lambda x: x ** 2\n",
    "num = 8\n",
    "result = square_lambda(num)\n",
    "print(\"Square of\", num, \"is:\", result)"
   ]
  },
  {
   "cell_type": "code",
   "execution_count": null,
   "metadata": {
    "colab": {
     "base_uri": "https://localhost:8080/"
    },
    "id": "201xe-0GgPmt",
    "outputId": "ce7f87d7-eed9-49ad-fde1-54c19ab1bcfb"
   },
   "outputs": [
    {
     "name": "stdout",
     "output_type": "stream",
     "text": [
      "Maximum value in the list: 35\n"
     ]
    }
   ],
   "source": [
    "#7. Create a lambda function to find the maximum value in a list of integers\n",
    "# Sample list of integers\n",
    "list_nums = [10, 5, 8, 20, 15,35]\n",
    "\n",
    "# Lambda function to find the maximum value in the list\n",
    "max_lambda = lambda list: max(list)\n",
    "\n",
    "# Finding the maximum value using the lambda function\n",
    "max_value = max_lambda(list_nums)\n",
    "print(\"Maximum value in the list:\", max_value)\n"
   ]
  },
  {
   "cell_type": "code",
   "execution_count": null,
   "metadata": {
    "colab": {
     "base_uri": "https://localhost:8080/"
    },
    "id": "GcoBMrbFqlzU",
    "outputId": "baf2c420-dc4c-4f33-cc0a-383829da516b"
   },
   "outputs": [
    {
     "name": "stdout",
     "output_type": "stream",
     "text": [
      "[2, 4, 6, 8, 10, 22, 28, 30, 32]\n"
     ]
    }
   ],
   "source": [
    "# 8. Implement a lambda function to filter out all the even numbers from a list of integers.\n",
    "\n",
    "numbers = [1,2,3,4,5,6,7,8,9,10,22,25,28,30,32]\n",
    "\n",
    "# Lambda function to check if a number is even\n",
    "is_even = lambda x: x % 2 == 0\n",
    "\n",
    "# Using filter() to filter out even numbers\n",
    "even_numbers = list(filter(is_even, numbers))\n",
    "\n",
    "print(even_numbers)"
   ]
  },
  {
   "cell_type": "code",
   "execution_count": null,
   "metadata": {
    "colab": {
     "base_uri": "https://localhost:8080/"
    },
    "id": "WoOGZP1rwqCc",
    "outputId": "a8dcf785-48a8-4b72-9b69-e19a8e9c34fa"
   },
   "outputs": [
    {
     "name": "stdout",
     "output_type": "stream",
     "text": [
      "['pear', 'apple', 'banana', 'cherry', 'papaya', 'orange', 'blueberry']\n"
     ]
    }
   ],
   "source": [
    "#9.Write a lambda function to sort a list of strings in ascending order based on the length of each string.\n",
    "# List of strings\n",
    "strings = [\"banana\", \"apple\", \"pear\", \"cherry\",\"papaya\",\"blueberry\",\"orange\"]\n",
    "\n",
    "# Lambda function to sort by length\n",
    "sorted_strings = sorted(strings, key=lambda s: len(s))\n",
    "\n",
    "print(sorted_strings)\n"
   ]
  },
  {
   "cell_type": "code",
   "execution_count": null,
   "metadata": {
    "colab": {
     "base_uri": "https://localhost:8080/"
    },
    "id": "xdahsIKN1mgh",
    "outputId": "a57938c1-f5dd-4c65-9c5f-8732d369f8db"
   },
   "outputs": [
    {
     "name": "stdout",
     "output_type": "stream",
     "text": [
      "[4, 5, 6, 7]\n"
     ]
    }
   ],
   "source": [
    "# 10. Create a lambda function that takes two lists as input and returns a new list containing the common elements between the two lists\n",
    "# Lambda function to find common elements\n",
    "find_common = lambda list1, list2: list(filter(lambda x: x in list2, list1))\n",
    "\n",
    "# Example lists\n",
    "list1 = [1, 2, 3, 4, 5, 6, 7]\n",
    "list2 = [4, 5, 6, 7, 8, 9, 10]\n",
    "\n",
    "# Use the lambda function\n",
    "common_elements = find_common(list1, list2)\n",
    "\n",
    "print(common_elements)\n"
   ]
  },
  {
   "cell_type": "code",
   "execution_count": 18,
   "metadata": {
    "colab": {
     "base_uri": "https://localhost:8080/"
    },
    "id": "wkyYpfd07-Vp",
    "outputId": "1c0c33fa-464f-455b-ecd6-c822d8b496dd"
   },
   "outputs": [
    {
     "name": "stdout",
     "output_type": "stream",
     "text": [
      "The factorial of 6 is 720\n"
     ]
    }
   ],
   "source": [
    "#  11.Write a recursive function to calculate the factorial of a given positive integer\n",
    "def fact(n):\n",
    "    if n == 1:\n",
    "        return 1\n",
    "    # Recursive case: n * factorial(n-1)\n",
    "    else:\n",
    "        return n * fact(n-1)\n",
    "\n",
    "number = 6\n",
    "print(f'The factorial of {number} is {fact(number)}')"
   ]
  },
  {
   "cell_type": "code",
   "execution_count": 19,
   "metadata": {
    "colab": {
     "base_uri": "https://localhost:8080/"
    },
    "id": "etpHpXoWb46l",
    "outputId": "7fcc965c-beb3-43b9-e7fd-306732841d97"
   },
   "outputs": [
    {
     "name": "stdout",
     "output_type": "stream",
     "text": [
      "9th Fibonacci number is : 34\n"
     ]
    }
   ],
   "source": [
    "#12. Implement a recursive function to compute the nth Fibonacci number.\n",
    "def fibonacci(n):\n",
    "  if n == 0:\n",
    "    return 0\n",
    "  elif n ==1:\n",
    "     return 1\n",
    "  else:\n",
    "    return fibonacci(n-1)+ fibonacci(n-2)\n",
    "\n",
    "\n",
    "num=9\n",
    "print(f'{num}th Fibonacci number is : {fibonacci(num)}')"
   ]
  },
  {
   "cell_type": "code",
   "execution_count": 21,
   "metadata": {
    "colab": {
     "base_uri": "https://localhost:8080/"
    },
    "id": "uqnCbKpwpCzr",
    "outputId": "d8fbfb3c-1f1f-4ae2-fc0d-c486de7d4940"
   },
   "outputs": [
    {
     "name": "stdout",
     "output_type": "stream",
     "text": [
      "Sum of Elements in the given list[12, 26, 96, 85, 47] is 266\n"
     ]
    }
   ],
   "source": [
    "#13. Create a recursive function to find the sum of all the elements in a given list.\n",
    "def sum_of_ele(lst):\n",
    "  if not lst:\n",
    "    return 0\n",
    "  else:\n",
    "    return lst[0] + sum_of_ele(lst[1:])\n",
    "\n",
    "Sample = [12,26,96,85,47]\n",
    "print(f'Sum of Elements in the given list{Sample} is {sum_of_ele(Sample)}')"
   ]
  },
  {
   "cell_type": "code",
   "execution_count": 34,
   "metadata": {
    "colab": {
     "base_uri": "https://localhost:8080/"
    },
    "id": "DbFAOhe4v-6k",
    "outputId": "f76722af-3e45-4193-e488-040311e2778e"
   },
   "outputs": [
    {
     "name": "stdout",
     "output_type": "stream",
     "text": [
      "The string reviver is a palindrome: True\n",
      "The string  is a palindrome: True\n",
      "The string ineuron is a palindrome: False\n",
      "The string M is a palindrome: True\n"
     ]
    }
   ],
   "source": [
    "#14. Write a recursive function to determine whether a given string is a palindrome.\n",
    "def check_palindrome(s):\n",
    "  if len(s) <= 1: #if the string is empty or has one character, it's a palindrome\n",
    "    return True\n",
    "  else:\n",
    "    return s[0]==s[-1] and check_palindrome(s[1:-1])\n",
    "\n",
    "example = \"reviver\"\n",
    "example1 = \"\"\n",
    "example2 = \"ineuron\"\n",
    "example3 = \"M\"\n",
    "print(f\"The string {example} is a palindrome: {check_palindrome(example)}\")\n",
    "print(f\"The string {example1} is a palindrome: {check_palindrome(example1)}\")\n",
    "print(f\"The string {example2} is a palindrome: {check_palindrome(example2)}\")\n",
    "print(f\"The string {example3} is a palindrome: {check_palindrome(example3)}\")"
   ]
  },
  {
   "cell_type": "code",
   "execution_count": 39,
   "metadata": {
    "colab": {
     "base_uri": "https://localhost:8080/"
    },
    "id": "Ofj5ofsv4YEb",
    "outputId": "724b1dd7-4bef-4a40-b9ca-35acf3a3146c"
   },
   "outputs": [
    {
     "name": "stdout",
     "output_type": "stream",
     "text": [
      "Greatest Common Divisor of 36 and 60 is 12\n"
     ]
    }
   ],
   "source": [
    "#15. Implement a recursive function to find the greatest common divisor (GCD) of two positive integers.\n",
    "def GCD(x,y):  #if y is 0, then GCD(x, y) = y\n",
    "  if y == 0:\n",
    "    return x\n",
    "  else:\n",
    "    return GCD(y,x % y)\n",
    "\n",
    "num1 = 36\n",
    "num2 = 60\n",
    "print(f'Greatest Common Divisor of {num1} and {num2} is {GCD(num1,num2)}')"
   ]
  }
 ],
 "metadata": {
  "colab": {
   "provenance": []
  },
  "kernelspec": {
   "display_name": "Python 3 (ipykernel)",
   "language": "python",
   "name": "python3"
  },
  "language_info": {
   "codemirror_mode": {
    "name": "ipython",
    "version": 3
   },
   "file_extension": ".py",
   "mimetype": "text/x-python",
   "name": "python",
   "nbconvert_exporter": "python",
   "pygments_lexer": "ipython3",
   "version": "3.11.5"
  }
 },
 "nbformat": 4,
 "nbformat_minor": 1
}
