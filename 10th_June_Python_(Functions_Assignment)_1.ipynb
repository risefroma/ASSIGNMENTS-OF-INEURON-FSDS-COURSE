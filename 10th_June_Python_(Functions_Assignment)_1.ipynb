{
 "cells": [
  {
   "cell_type": "code",
   "execution_count": null,
   "metadata": {
    "colab": {
     "base_uri": "https://localhost:8080/"
    },
    "id": "d_u3yJXnv__N",
    "outputId": "556ddbcb-79cf-42f4-a1c8-e83fcb2cdea7"
   },
   "outputs": [
    {
     "name": "stdout",
     "output_type": "stream",
     "text": [
      "5\n",
      "15\n"
     ]
    }
   ],
   "source": [
    "'''1. In Python, what is the difference between a built-in function and a user-defined function? Provide an\n",
    "example of each.\n",
    "Built-in Functions:\n",
    "Built-in functions are functions that are included in the Python language by default.\n",
    "They are part of the standard library and cover a wide range of functionalities.\n",
    "Examples:'''\n",
    "# Example of built-in function: len()\n",
    "my_list = [1, 2, 3, 4, 5]\n",
    "length = len(my_list)\n",
    "print(length)  # Output: 5\n",
    "#In this example, len() is a built-in function that returns the length of a sequence,here it returns the length of the list my_list\n",
    "\n",
    "# Example of a built-in function: sum()\n",
    "numbers = [1, 2, 3, 4, 5]\n",
    "total = sum(numbers)\n",
    "print(total)  # Output: 15\n",
    "#sum() is a built-in function that takes an iterable (in this case, a list of numbers) and returns the sum of all the elements.\n",
    "# The list \"numbers\" is passed as an argument to sum()\n",
    "\n",
    "'''User-defined Functions:\n",
    "User-defined functions are functions created by the programmer to perform specific tasks and can be called upon whenever the need arises in the code\n",
    "They are defined using the def keyword followed by a function name, parameters, and a block of code.\n",
    "Examples:'''\n",
    "# Example of user-defined function: square()\n",
    "def square(x):\n",
    "    return x**2\n",
    "\n",
    "result = square(4)\n",
    "print(result)  # Output: 16\n",
    "\n",
    "#square() is a user-defined function that takes a parameter x and returns the square of x.\n",
    "#The function is then called with the argument 4, resulting in 16."
   ]
  },
  {
   "cell_type": "code",
   "execution_count": 1,
   "metadata": {
    "colab": {
     "base_uri": "https://localhost:8080/"
    },
    "id": "nLMbBtgrACSJ",
    "outputId": "0a6c82d7-3a77-42ab-cca9-61a0c1cda319"
   },
   "outputs": [
    {
     "name": "stdout",
     "output_type": "stream",
     "text": [
      "good morning, kailash!\n",
      "*********************************************\n",
      "Hello, John!\n",
      "*********************************************\n",
      "17\n"
     ]
    }
   ],
   "source": [
    "'''2.How can you pass arguments to a function in Python? Explain the difference between positional arguments and keyword arguments.\n",
    "Soln - We can pass arguments to a function in several ways:\n",
    "1.default Arguments\n",
    "2.Positional Arguments\n",
    "3.Keyword Agruments\n",
    "3.Variable length Arguments(*args and **kwargs)'''\n",
    "\n",
    "'''Positional Arguments:\n",
    "Arguments are passed based on their position in the function call.\n",
    "Order Matters: The values are assigned to parameters in the same order they appear in the function definition.\n",
    "Number of parameters must be equal to number of arguments\n",
    "\n",
    "Example:'''\n",
    "def greet(message,name):\n",
    "    print(f\"{message}, {name}!\")\n",
    "\n",
    "greet(\"good morning\", \"kailash\")\n",
    "\n",
    "'''Keyword Arguments:\n",
    "Keyword arguments allows us to pass values to a function using parameter names.\n",
    "Order of values doesn't matter as long as the parameter names are specified.\n",
    "Order Doesn't Matter: Values are assigned based on the names of parameters, not their position.\n",
    "Example:'''\n",
    "print(\"*********************************************\")\n",
    "def greet(name, message):\n",
    "    print(f\"{message}, {name}!\")\n",
    "\n",
    "greet(message=\"Hello\", name=\"John\")  #parameter names are specified\n",
    "\n",
    "'''Point to note:\n",
    "Keyword Arguments Should Follow Positional Arguments'''\n",
    "print(\"*********************************************\")\n",
    "def add(a,b,c):\n",
    "    return (a+b+c)\n",
    "\n",
    "#print (add(a=10,3,4))  # Gives SyntaxError: positional argument follows keyword argument\n",
    "\n",
    "print (add(10,3,c=4)) # (correct way) keyword arguments should follow positional arguments"
   ]
  },
  {
   "cell_type": "code",
   "execution_count": null,
   "metadata": {
    "colab": {
     "base_uri": "https://localhost:8080/"
    },
    "id": "CCDo9vpisAAl",
    "outputId": "55bc791c-6020-411e-c729-060bdfb022c5"
   },
   "outputs": [
    {
     "name": "stdout",
     "output_type": "stream",
     "text": [
      "7\n",
      "Positive\n",
      "Negative\n",
      "Zero\n"
     ]
    }
   ],
   "source": [
    " '''3.What is the purpose of the return statement in a function? Can a function have multiple return\n",
    " statements? Explain with an example.\n",
    "\n",
    " * The python return statement is used to return values from the function. '''\n",
    "def add_numbers(a,b):\n",
    "  result = a + b\n",
    "  return result\n",
    "\n",
    "# Example usage:\n",
    "sum_result = add_numbers(3, 4)\n",
    "print(sum_result)  # Output: 7\n",
    "\n",
    " '''* When a return statement is encountered during the execution of a function,\n",
    "   it immediately terminates the function's execution and sends the specified value back to the point where the function was called.\n",
    " * We can use the return statement in a function only. It can’t be used outside of a Python function.\n",
    " * Every function in Python returns something. If the function doesn’t have any return statement, then it returns None.\n",
    " * Data type of return function can be anything\n",
    " * In Python, any code that comes after a return statement within the same function or method is considered dead code.\n",
    "   This code will never be executed because the function terminates as soon as it hits the return statement.\n",
    "\n",
    " Yes, a function can have multiple return statements. However, only one of them will be executed, as the first encountered return statement will cause the function to exit.\n",
    "This means that any subsequent return statements will not be reached.\n",
    "Here's an example to illustrate this:'''\n",
    "def check_number(x):\n",
    "    if x > 0:\n",
    "        return \"Positive\"\n",
    "    elif x < 0:\n",
    "        return \"Negative\"\n",
    "    else:\n",
    "        return \"Zero\"\n",
    "\n",
    "# Example usage:\n",
    "result = check_number(5)\n",
    "print(result)  # Output: Positive\n",
    "\n",
    "result = check_number(-3)\n",
    "print(result)  # Output: Negative\n",
    "\n",
    "result = check_number(0)\n",
    "print(result)  # Output: Zero\n"
   ]
  },
  {
   "cell_type": "code",
   "execution_count": null,
   "metadata": {
    "colab": {
     "base_uri": "https://localhost:8080/"
    },
    "id": "Fs88eca6Us1B",
    "outputId": "43b9d4d6-2918-4484-bf03-a8fecec0c32e"
   },
   "outputs": [
    {
     "name": "stdout",
     "output_type": "stream",
     "text": [
      "[('Neha', 22), ('Simran', 25), ('Rahul', 28), ('Ravi', 56)]\n"
     ]
    }
   ],
   "source": [
    "'''4. What are lambda functions in Python? How are they different from regular functions? Provide an\n",
    " example where a lambda function can be useful.\n",
    "Lambda functions are small anonymous or nameless functions defined with Lambda keyword.\n",
    "They are typically used for simple operations and are often used in conjunction with functions like map(), filter(), and reduce().\n",
    "Lambda functions are useful for small tasks that are not reused throughout the code.\n",
    "\n",
    "Lambda functions are different from regular functions primarily in their syntax and usage. Some key differences include:\n",
    "Syntax:lambda arguments: expression\n",
    "Lambda functions are written on a single line and don't require a return statement.\n",
    "They are more concise compared to regular functions hence reduces code size\n",
    "\n",
    "Scope: Lambda functions are defined at runtime and are anonymous, meaning they don't have a name associated with them.\n",
    "Regular functions are defined using the def keyword and can be accessed by their name.\n",
    "\n",
    "Purpose: Lambda functions are often used for small, simple operations where creating a named function would be overkill.\n",
    "They're commonly used in functional programming paradigms for operations like mapping, filtering, and sorting.\n",
    "\n",
    "An example where a lambda function can be useful is when we want to sort a list of tuples based on a specific element within each tuple.\n",
    "Here's how we can achieve this using a lambda function with the sorted() function:'''\n",
    "\n",
    "students = [('Neha', 22), ('Ravi', 56), ('Simran', 25),('Rahul',28)]\n",
    "\n",
    "# Sort the list of tuples based on the second element (age) of each tuple\n",
    "sorted_students = sorted(students, key=lambda x: x[1])\n",
    "print(sorted_students)\n",
    "\n",
    "# Output: [('Neha', 22), ('Simran', 25), ('Rahul', 28), ('Ravi', 56)]\n",
    "#In this example, the lambda function lambda x: x[1] is used as the key argument for sorting.\n",
    "#It extracts the second element (age) of each tuple, which is used to determine the sorting order."
   ]
  },
  {
   "cell_type": "code",
   "execution_count": null,
   "metadata": {
    "colab": {
     "base_uri": "https://localhost:8080/"
    },
    "id": "c5WbKqLcqM9i",
    "outputId": "915864eb-d4bc-4434-efcf-3865f6f35ed6"
   },
   "outputs": [
    {
     "name": "stdout",
     "output_type": "stream",
     "text": [
      "I am local\n",
      "Hey, Jia\n",
      "Hello, Tina\n",
      "Tina das\n",
      "Tina das\n"
     ]
    }
   ],
   "source": [
    " '''5. How does the concept of \"scope\" apply to functions in Python? Explain the difference between local scope and global scope\n",
    "\n",
    " Scope refers to the coding region from which particular python object is accessible.hence one cannot access any particular object from the code , the accessing as to be\n",
    " allowed by the scope of object.\n",
    "\n",
    "Local Scope: Variables defined within a function are said to have local scope.\n",
    "They can only be accessed within that function and are not visible to code outside of the function.\n",
    "When the function is called, Python creates a new namespace for it, and variables declared within the function exist only within that namespace.\n",
    "Once the function completes execution, these variables are destroyed.'''\n",
    "\n",
    "def example_function():\n",
    "    local_variable = \"I am local\"\n",
    "    print(local_variable)\n",
    "\n",
    "example_function()  # Output: I am local\n",
    "\n",
    "# Trying to access local_variable outside the function would result in a NameError\n",
    "\n",
    "'''Global Scope: Variables defined at the outermost level of a Python script or module have global scope.\n",
    "They can be accessed from anywhere within the script or module, including within functions. Global variables persist throughout the execution of the program.\n",
    "If we need to modify global variable from within a function, we typically need to use the global keyword to indicate that yo're referring to the global variable,\n",
    "not creating a new local one.'''\n",
    "\n",
    "name = \"Jia\"\n",
    "def greet():\n",
    "    print(\"Hey,\", name)  # Accessing the global variable 'name' inside the function\n",
    "greet()\n",
    "\n",
    "name1 = \"Tina\"\n",
    "def greet1():\n",
    "    global name1\n",
    "    print(\"Hello,\", name1)\n",
    "    name1 = name1 + \" das\"  #modifying the global variable\n",
    "    print(name1)\n",
    "greet1()\n",
    "\n"
   ]
  },
  {
   "cell_type": "code",
   "execution_count": null,
   "metadata": {
    "colab": {
     "base_uri": "https://localhost:8080/"
    },
    "id": "OcOzG3mKQFOj",
    "outputId": "623787a4-3230-4f7a-ac55-93298cb0aa21"
   },
   "outputs": [
    {
     "name": "stdout",
     "output_type": "stream",
     "text": [
      "mean is 47 , mode is 21 , median is 56\n"
     ]
    }
   ],
   "source": [
    "#  6. How can you use the \"return\" statement in a Python function to return multiple values\n",
    "\n",
    "# In Python, the return statement is used to exit a function and return a value back to the caller.\n",
    "# We can actually return multiple values by returning them as part of a tuple, list, dictionary, or any other iterable data structure.\n",
    "# This is a powerful feature of Python that allows functions to return complex data structures containing multiple pieces of information.\n",
    "# Here's how we can use the return statement to return multiple values from a function:\n",
    "\n",
    "import statistics\n",
    "def mean_mode_median(list1):\n",
    "  return statistics.mean(list1),statistics.mode(list1),statistics.median(list1)\n",
    "\n",
    "a,b,c = mean_mode_median([21,56,85,15,58])\n",
    "print(f\"mean is {a} , mode is {b} , median is {c}\")"
   ]
  },
  {
   "cell_type": "code",
   "execution_count": null,
   "metadata": {
    "colab": {
     "base_uri": "https://localhost:8080/"
    },
    "id": "RPKIclKtCoUu",
    "outputId": "678c486d-dbdb-47b0-f51b-f432da9db23f"
   },
   "outputs": [
    {
     "name": "stdout",
     "output_type": "stream",
     "text": [
      "inside function 3\n",
      "outside function 2\n",
      "@@@@@@@@@@@@@@@@@@@@@@@@@@@@@@@@@@@@@@@@@@@@@\n",
      "list 1 [4, 8, 9, 6, 3]\n",
      "id of list1 is 134441588987328\n",
      "***********************************************\n",
      "appended list is  [4, 8, 9, 6, 3, 5]\n",
      "id of appended list:  134441588987328\n",
      "***********************************************\n",
      "[4, 8, 9, 6, 3, 5]\n"
     ]
    }
   ],
   "source": [
    "# 7. What is the difference between the \"pass by value\" and \"pass by reference\" concepts when it comes to function arguments in Python?\n",
    "'''Pass By Value, where a copy of the original value is passed as a parameter and hence the original value in the caller remains unchanged.\n",
    "\n",
    "Pass By Reference, where a reference to the original value is passed as the parameter and so the original value in the caller is also modified.\n",
    "In Python’s Pass By Object Reference, the object reference is passed by value. A variable can be thought of as a name (or reference) assigned to an object,\n",
    "and the object can be mutable (eg. list) or immutable (eg. integer). When a variable is passed as a function parameter, actually a copy of this reference is passed.'''\n",
    "\n",
    "#  Depending on the type of object we pass in the function, the function behaves differently.\n",
    "#  Immutable objects show “pass by value” whereas mutable objects show “pass by reference”.\n",
    "\n",
    "def increment(a):\n",
    "  a += 1\n",
    "  print(\"inside function\",a)\n",
    "\n",
    "num=2\n",
    "increment(num)\n",
    "\n",
    "print(\"outside function\",num)\n",
    "print(\"@@@@@@@@@@@@@@@@@@@@@@@@@@@@@@@@@@@@@@@@@@@@@\")\n",
    "# We pass an integer in function increment().\n",
    "# Integers are immutable objects hence Python works according to call by value, and the changes made in the function are not reflected outside the function.\n",
    "\n",
    "def listcheck(l):\n",
    "  l.append(5)\n",
    "  print(\"appended list is \",l)\n",
    "  print(\"id of appended list: \",id(l))\n",
    "\n",
    "list1=[4,8,9,6,3]\n",
    "print(\"list 1\" , list1)\n",
    "print(\"id of list1 is\", id(list1))\n",
    "print(\"***********************************************\")\n",
    "listcheck(list1)\n",
    "print(\"***********************************************\")\n",
    "print(list1)\n",
    "\n",
    "We then pass list to function by reference. In function listcheck() we pass a list that is an mutable object.\n",
    "Python works according to call by reference in this function and the changes made inside the function can also be seen outside the function."
   ]
  },
  {
   "cell_type": "code",
   "execution_count": 1,
   "metadata": {
    "colab": {
     "base_uri": "https://localhost:8080/"
    },
    "id": "B4cgqhWczWwG",
    "outputId": "61aad9d8-1cee-4d39-8f84-e3b2a1c15a2f"
   },
   "outputs": [
    {
     "name": "stdout",
     "output_type": "stream",
     "text": [
      "Enter an integer or decimal value: 8\n",
      "Logarithmic function (log x): 2.0794415416798357\n",
      "Exponential function (exp(x)): 2980.9579870417283\n",
      "Power function with base 2 (2x): 256\n",
      "Square root: 2.8284271247461903\n"
     ]
    }
   ],
   "source": [
    "#  8. Create a function that can intake integer or decimal value and do following operations:\n",
    "#  a. Logarithmic function (log x)\n",
    "#  b. Exponential function (exp(x))\n",
    "#  c. Power function with base 2 (2x)\n",
    "#  d. Square root\n",
    "\n",
    "import math\n",
    "\n",
    "def perform_operations(input_value):\n",
    "    if not isinstance(input_value, (int, float)):\n",
    "        raise ValueError(\"Input value must be an integer or a decimal.\")\n",
    "\n",
    "    result_log = math.log(input_value)\n",
    "    result_exp = math.exp(input_value)\n",
    "    result_power = 2 ** input_value\n",
    "    result_sqrt = math.sqrt(input_value)\n",
    "\n",
    "    print(f\"Logarithmic function (log x): {result_log}\")\n",
    "    print(f\"Exponential function (exp(x)): {result_exp}\")\n",
    "    print(f\"Power function with base 2 (2x): {result_power}\")\n",
    "    print(f\"Square root: {result_sqrt}\")\n",
    "\n",
    "# Taking input from the user\n",
    "user_input = input(\"Enter an integer or decimal value: \")\n",
    "try:\n",
    "    input_value = int(user_input)  # Try converting to an integer first\n",
    "except ValueError:\n",
    "    try:\n",
    "        input_value = float(user_input)  # If it's not an integer, try converting to a float\n",
    "    except ValueError:\n",
    "        print(\"Invalid input. Please enter a valid integer or decimal.\")\n",
    "        exit()\n",
    "\n",
    "perform_operations(input_value)"
   ]
  },
  {
   "cell_type": "code",
   "execution_count": 2,
   "metadata": {
    "colab": {
     "base_uri": "https://localhost:8080/"
    },
    "id": "XDTZ4DCX83Kr",
    "outputId": "61d6feca-d112-4dfb-b5ad-0e21a20b054b"
   },
   "outputs": [
    {
     "name": "stdout",
     "output_type": "stream",
     "text": [
      "Enter full name : Kailash Joshi\n",
      "First Name: Kailash\n",
      "Last Name: Joshi\n"
     ]
    }
   ],
   "source": [
    "#  9. Create a function that takes a full name as an argument and returns first name and last name\n",
    "def get_first_last_name(full_name):\n",
    "    # Split the full name into words\n",
    "    names = full_name.split()\n",
    "\n",
    "    first_name = names[0]\n",
    "\n",
    "    last_name = names[-1]\n",
    "\n",
    "    return first_name, last_name\n",
    "\n",
    "# Example usage:\n",
    "full_name = input(\"Enter full name : \")\n",
    "first_name, last_name = get_first_last_name(full_name)\n",
    "print(\"First Name:\", first_name)\n",
    "print(\"Last Name:\", last_name)"
   ]
  },
  {
   "cell_type": "code",
   "execution_count": null,
   "metadata": {},
   "outputs": [],
   "source": []
  }
 ],
 "metadata": {
  "colab": {
   "provenance": []
  },
  "kernelspec": {
   "display_name": "Python 3 (ipykernel)",
   "language": "python",
   "name": "python3"
  },
  "language_info": {
   "codemirror_mode": {
    "name": "ipython",
    "version": 3
   },
   "file_extension": ".py",
   "mimetype": "text/x-python",
   "name": "python",
   "nbconvert_exporter": "python",
   "pygments_lexer": "ipython3",
   "version": "3.11.5"
  }
 },
 "nbformat": 4,
 "nbformat_minor": 1
}
