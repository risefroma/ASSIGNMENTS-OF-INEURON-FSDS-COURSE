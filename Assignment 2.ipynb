{
 "cells": [
  {
   "cell_type": "markdown",
   "id": "db211bfd",
   "metadata": {},
   "source": [
    "1.What are the two values of the Boolean data type? How do you write them?"
   ]
  },
  {
   "cell_type": "raw",
   "id": "44d38d59",
   "metadata": {},
   "source": [
    "Ans= The Boolean data type has only two possible values:\n",
    "     True  \n",
    "     False\n",
    "     In writting the boolean value, the 'first letter of the value must be capital'.\n",
    "     \"True\" is correct boolean value not 'true'.\n",
    "     \"False\" is correct boolean value not 'false'."
   ]
  },
  {
   "cell_type": "markdown",
   "id": "71f561d4",
   "metadata": {},
   "source": [
    "2. What are the three different types of Boolean operators?"
   ]
  },
  {
   "cell_type": "raw",
   "id": "598c9b71",
   "metadata": {},
   "source": [
    "Ans= Three different types of boolean operators are\n",
    "    (a) \"and\" operator = True only if both are True\n",
    "    (b) \"or\"  operator = True if any one is True\n",
    "    (c) \"not\" operator = True only if False"
   ]
  },
  {
   "cell_type": "markdown",
   "id": "b8ed0187",
   "metadata": {},
   "source": [
    "3. Make a list of each Boolean operator's truth tables (i.e. every possible combination of Boolean values for the operator and what it evaluate ).\n"
   ]
  },
  {
   "cell_type": "raw",
   "id": "7059cf18",
   "metadata": {},
   "source": [
    "Ans= Truth Table for \"and\" operator\n",
    "\n",
    "         x           y             x and y\n",
    "        True        True            True\n",
    "        True        False           False\n",
    "        False       True            False\n",
    "        False       False           False\n",
    "        \n",
    "     Truth Table for \"or\" operator\n",
    "     \n",
    "         x           y             x or y\n",
    "        True        True            True\n",
    "        True        False           True\n",
    "        False       True            True\n",
    "        False       False           False\n",
    "        \n",
    "     Truth Table for \"not\" operator\n",
    "     \n",
    "         x          not x\n",
    "        True        False\n",
    "        False       True\n",
    "         \n",
    "         "
   ]
  },
  {
   "cell_type": "markdown",
   "id": "e1ad676d",
   "metadata": {},
   "source": [
    "4. What are the values of the following expressions?\n",
    "\n",
    "   \n"
   ]
  },
  {
   "cell_type": "code",
   "execution_count": 2,
   "id": "d27b9476",
   "metadata": {},
   "outputs": [
    {
     "data": {
      "text/plain": [
       "False"
      ]
     },
     "execution_count": 2,
     "metadata": {},
     "output_type": "execute_result"
    }
   ],
   "source": [
    "(5 > 4) and (3 == 5)\n",
    "\"\"\"\n",
    "   5 is greater than 4 but 3 is not equal to 5\n",
    "   first is True second is False\n",
    "   \"and\" operator is True only if both are true \n",
    "   therefore, output is False.\n",
    "   \n",
    "\"\"\"\n",
    "\n"
   ]
  },
  {
   "cell_type": "code",
   "execution_count": 4,
   "id": "ce3ae452",
   "metadata": {
    "scrolled": true
   },
   "outputs": [
    {
     "data": {
      "text/plain": [
       "False"
      ]
     },
     "execution_count": 4,
     "metadata": {},
     "output_type": "execute_result"
    }
   ],
   "source": [
    "not (5 > 4)\n",
    "\"\"\"\n",
    "   5 is greater than 4 hence True \n",
    "   \"not\" operator is True only if False\n",
    "   therefore, output is False.\n",
    "   \n",
    "\"\"\"\n"
   ]
  },
  {
   "cell_type": "code",
   "execution_count": 1,
   "id": "7eca6097",
   "metadata": {},
   "outputs": [
    {
     "data": {
      "text/plain": [
       "True"
      ]
     },
     "execution_count": 1,
     "metadata": {},
     "output_type": "execute_result"
    }
   ],
   "source": [
    "(5 > 4) or (3 == 5) \n",
    "\"\"\"\n",
    "   5 is greater than 4 but 3 is not equal to 5\n",
    "   first is True second is False\n",
    "   \"or\" operator is True if any one is True\n",
    "   therefore, output is True.\n",
    "  \n",
    "\"\"\"\n"
   ]
  },
  {
   "cell_type": "code",
   "execution_count": 2,
   "id": "70bed918",
   "metadata": {},
   "outputs": [
    {
     "data": {
      "text/plain": [
       "False"
      ]
     },
     "execution_count": 2,
     "metadata": {},
     "output_type": "execute_result"
    }
   ],
   "source": [
    "not ((5 > 4) or (3 == 5)) \n",
    "\"\"\"\n",
    "   5 is greater than 4 but 3 is not equal to 5\n",
    "   first is True second is False\n",
    "   \"or\" operator is True if any one is True. hence, inner output is True\n",
    "   but, \"not\" operator is True only if False\n",
    "   therefore, final output is False.\n",
    "   \n",
    "\"\"\"\n"
   ]
  },
  {
   "cell_type": "code",
   "execution_count": 3,
   "id": "ed016cae",
   "metadata": {},
   "outputs": [
    {
     "data": {
      "text/plain": [
       "False"
      ]
     },
     "execution_count": 3,
     "metadata": {},
     "output_type": "execute_result"
    }
   ],
   "source": [
    "(True and True) and (True == False) \n",
    "\"\"\"\n",
    "   First is True, Second is False\n",
    "   \"and\" operator is True only if both are True\n",
    "   therefore, output is False.\n",
    "   \n",
    "\"\"\"\n"
   ]
  },
  {
   "cell_type": "code",
   "execution_count": 4,
   "id": "c11dd876",
   "metadata": {},
   "outputs": [
    {
     "data": {
      "text/plain": [
       "True"
      ]
     },
     "execution_count": 4,
     "metadata": {},
     "output_type": "execute_result"
    }
   ],
   "source": [
    "(not False) or (not True) \n",
    "\"\"\"\n",
    "   First is True, Second is False\n",
    "   \"or\" operator is True if any one is True\n",
    "   therefore, output is True.\n",
    "\n",
    "\"\"\"\n"
   ]
  },
  {
   "cell_type": "markdown",
   "id": "483206c4",
   "metadata": {},
   "source": [
    "5. What are the six comparison operators?\n"
   ]
  },
  {
   "cell_type": "raw",
   "id": "f17e889a",
   "metadata": {},
   "source": [
    "Ans= Operators are symbols that are used to perform operation on variables and values.\n",
    "     Comparison operators are used to compare two operands. They return a Boolean True or False depending on whether the\n",
    "     comparison condition is true or false.\n",
    "    \n",
    "     There are total 6 comparison operators. \n",
    "     \n",
    "      (1) \"<\"  \t 'Less than' operator                       a<b\n",
    "      (2) \">\"    'greater than' operator                    a>b\n",
    "      (3) \"<=\"   'Less than or equal to' operator           a<=b\n",
    "      (4) \">=\"   'Greater than or equal to' operator        a>=b\n",
    "      (6) \"==\"   'equal to' operator                        a==b\n",
    "      (7) \"!=\"   'not equal to' oprator                     a!=b\n",
    "     "
   ]
  },
  {
   "cell_type": "markdown",
   "id": "4ab9865a",
   "metadata": {},
   "source": [
    "6. How do you tell the difference between the equal to and assignment operators?Describe a\n",
    "condition and when you would use one."
   ]
  },
  {
   "cell_type": "raw",
   "id": "c6061558",
   "metadata": {},
   "source": [
    "Ans= assignment operators (\"=\") are used to assign values to variables.\n",
    "    \n",
    "    example  \n",
    "        name = 10 (here \"=\" is assignment operator which is assigning a value '10' to variable 'name')\n",
    "        name += 2 (same as 10+2, because we have assigned a value '10' to variable 'name. therefore output will be '12')\n",
    "     \n",
    "     In assignment operator variable is plced left hand side and value is placed right hand side.\n",
    "     we cannot place a litrals on left hand side of an assignment operator.\n",
    "     \n",
    "     example\n",
    "         5=5 #error cannot assign litral left hand side\n",
    "     \n",
    "     \n",
    "     \n",
    "     equal to operator (\"==\") is used to comapre the two operands present on  the either side.\n",
    "     \n",
    "     example\n",
    "        'name' == 5 (here \"==\" is equal to operator which is comparing the two operands 'name' and '10' present on either side)\n",
    "         output will be False\n",
    "        \n",
    "     if operands on both the sides of equal to operator is comaprable it returns the output as \"True\" otherwise ouptut will be        \"False\".\n",
    "     we can place a litral on the left hand side of the equal to operator.\n",
    "     \n",
    "     example\n",
    "          5==5 #output is True\n",
    "         \n",
    "        \n",
    "          \n",
    "     \n",
    "          "
   ]
  },
  {
   "cell_type": "code",
   "execution_count": 9,
   "id": "e840f2b4",
   "metadata": {},
   "outputs": [
    {
     "name": "stdout",
     "output_type": "stream",
     "text": [
      "assignment operator\n",
      "20\n",
      "equal to operator\n"
     ]
    },
    {
     "data": {
      "text/plain": [
       "False"
      ]
     },
     "execution_count": 9,
     "metadata": {},
     "output_type": "execute_result"
    }
   ],
   "source": [
    "print(\"assignment operator\")\n",
    "name = 10 #assigning value 10 to variable name \n",
    "name+=10 #same as 10+10\n",
    "print(name)\n",
    "print (\"equal to operator\")\n",
    "'name'== 10 #comparing 'name' to 10 \n"
   ]
  },
  {
   "cell_type": "markdown",
   "id": "a0d0b7c8",
   "metadata": {},
   "source": [
    "7. Identify the three blocks in this code:"
   ]
  },
  {
   "cell_type": "code",
   "execution_count": null,
   "id": "4634dc1e",
   "metadata": {},
   "outputs": [],
   "source": [
    "spam = 0\n",
    "if spam == 10:\n",
    "print('eggs')         #error= indentation block \n",
    "if spam > 5:\n",
    "print('bacon')        #error= indentation block.\n",
    "else:\n",
    "print('ham')          #error= indentation block\n",
    "print('spam')        \n",
    "print('spam')        "
   ]
  },
  {
   "cell_type": "raw",
   "id": "46417d95",
   "metadata": {},
   "source": [
    "to clear the error in aboove code we have to give the proper indentation as shown below"
   ]
  },
  {
   "cell_type": "code",
   "execution_count": 6,
   "id": "cc91977c",
   "metadata": {},
   "outputs": [
    {
     "name": "stdout",
     "output_type": "stream",
     "text": [
      "ham\n",
      "spam\n",
      "spam\n"
     ]
    }
   ],
   "source": [
    "spam = 0\n",
    "if spam == 10:\n",
    "    print('eggs')         \n",
    "if spam > 5:\n",
    "    print('bacon')        \n",
    "else:\n",
    "    print('ham')         \n",
    "    print('spam')         \n",
    "    print('spam')         "
   ]
  },
  {
   "cell_type": "markdown",
   "id": "cd0cb56c",
   "metadata": {},
   "source": [
    "8. Write code that prints Hello if 1 is stored in spam, prints Howdy if 2 is stored in spam, and prints\n",
    "Greetings! if anything else is stored in spam."
   ]
  },
  {
   "cell_type": "code",
   "execution_count": 5,
   "id": "a7ed345b",
   "metadata": {},
   "outputs": [
    {
     "name": "stdout",
     "output_type": "stream",
     "text": [
      "please enter a number: 1\n",
      "Hello\n"
     ]
    }
   ],
   "source": [
    "spam = float(input(\"please enter a number: \"))\n",
    "if spam == 1:\n",
    "    print(\"Hello\")\n",
    "elif spam == 2:\n",
    "    print(\"Howdy\")\n",
    "else:\n",
    "    print(\"Greetings!\")"
   ]
  },
  {
   "cell_type": "code",
   "execution_count": 6,
   "id": "a466ac01",
   "metadata": {},
   "outputs": [
    {
     "name": "stdout",
     "output_type": "stream",
     "text": [
      "please enter a number: 2\n",
      "Howdy\n"
     ]
    }
   ],
   "source": [
    "spam = float(input(\"please enter a number: \"))\n",
    "if spam == 1:\n",
    "    print(\"Hello\")\n",
    "elif spam == 2:\n",
    "    print(\"Howdy\")\n",
    "else:\n",
    "    print(\"Greetings!\")"
   ]
  },
  {
   "cell_type": "code",
   "execution_count": 7,
   "id": "4dea70ad",
   "metadata": {},
   "outputs": [
    {
     "name": "stdout",
     "output_type": "stream",
     "text": [
      "please enter a number: 3\n",
      "Greetings!\n"
     ]
    }
   ],
   "source": [
    "spam = float(input(\"please enter a number: \"))\n",
    "if spam == 1:\n",
    "    print(\"Hello\")\n",
    "elif spam == 2:\n",
    "    print(\"Howdy\")\n",
    "else:\n",
    "    print(\"Greetings!\")"
   ]
  },
  {
   "cell_type": "markdown",
   "id": "df41ff5e",
   "metadata": {},
   "source": [
    "9.If your programme is stuck in an endless loop, what keys you’ll press?"
   ]
  },
  {
   "cell_type": "raw",
   "id": "df538cbb",
   "metadata": {},
   "source": [
    "Ans= when a programme is stuck in an endless loop, to stop the loop we have to press CTRL+C command"
   ]
  },
  {
   "cell_type": "markdown",
   "id": "9c79adb4",
   "metadata": {},
   "source": [
    "10. How can you tell the difference between break and continue?"
   ]
  },
  {
   "cell_type": "raw",
   "id": "0e3c6e06",
   "metadata": {},
   "source": [
    "Ans= break\n",
    "         It eliminates the execution of remaining iteration of loop.\n",
    "         It early terminates the loop.\n",
    "        ‘Break’ will resume control of program to the end of loop enclosing that ‘break’.\n",
    "         The ‘break ‘stop the continuation of the loop."
   ]
  },
  {
   "cell_type": "code",
   "execution_count": 17,
   "id": "8436a883",
   "metadata": {},
   "outputs": [
    {
     "name": "stdout",
     "output_type": "stream",
     "text": [
      "0\n",
      "1\n",
      "2\n",
      "3\n",
      "4\n",
      "5\n",
      "6\n",
      "7\n",
      "8\n",
      "9\n",
      "10\n",
      "11\n"
     ]
    }
   ],
   "source": [
    "for i in range(20):\n",
    "    if i == 12:\n",
    "        break #loop will terminate at i==12\n",
    "    print(i)\n",
    "        "
   ]
  },
  {
   "cell_type": "raw",
   "id": "1ebefb0a",
   "metadata": {},
   "source": [
    "      continue\n",
    "         It will terminate only the current iteration of loop.\n",
    "         It causes the early execution of the next iteration.\n",
    "         The ‘continue’ will resume the control of the program to next iteration of that loop enclosing ‘continue'\n",
    "         The ‘continue’ does not stop the continuation of loop and it stops the current."
   ]
  },
  {
   "cell_type": "code",
   "execution_count": 19,
   "id": "ed52a148",
   "metadata": {},
   "outputs": [
    {
     "name": "stdout",
     "output_type": "stream",
     "text": [
      "0\n",
      "1\n",
      "2\n",
      "3\n",
      "4\n",
      "5\n",
      "6\n",
      "7\n",
      "8\n",
      "9\n",
      "10\n",
      "11\n",
      "13\n",
      "14\n",
      "15\n",
      "16\n",
      "17\n",
      "18\n",
      "19\n"
     ]
    }
   ],
   "source": [
    "for i in range(20):\n",
    "    if i==12:\n",
    "        continue #loop will stop for iteration i==12 and will run next iteration.\n",
    "    print(i)"
   ]
  },
  {
   "cell_type": "markdown",
   "id": "ff3e274c",
   "metadata": {},
   "source": [
    "Q11. In a for loop, what is the difference between range(10), range(0, 10), and range(0, 10, 1)?"
   ]
  },
  {
   "cell_type": "raw",
   "id": "e962f331",
   "metadata": {},
   "source": [
    "Ans= range function  gives the sequence of the number. sequence of number starts from 0 by defalut and goes till  one number          prior to number alloted to range function.\n",
    "     for example- if we run the function,  range(5)\n",
    "     output sequence will start from 0(by default) and goes till 4(one number prior to number alloted to range function)"
   ]
  },
  {
   "cell_type": "code",
   "execution_count": 4,
   "id": "55dca2e3",
   "metadata": {},
   "outputs": [
    {
     "name": "stdout",
     "output_type": "stream",
     "text": [
      "0\n",
      "1\n",
      "2\n",
      "3\n",
      "4\n",
      "5\n",
      "6\n",
      "7\n",
      "8\n",
      "9\n"
     ]
    }
   ],
   "source": [
    "for i in range(10): #here we are asking the interpreter to give a sequence of number till 9 since we haven't specified any starting point so the default starting point will be 0\n",
    "    print(i) #output will be a sequence of number starting from 0 till 9 "
   ]
  },
  {
   "cell_type": "code",
   "execution_count": 5,
   "id": "cefceb0e",
   "metadata": {},
   "outputs": [
    {
     "name": "stdout",
     "output_type": "stream",
     "text": [
      "0\n",
      "1\n",
      "2\n",
      "3\n",
      "4\n",
      "5\n",
      "6\n",
      "7\n",
      "8\n",
      "9\n"
     ]
    }
   ],
   "source": [
    "for i in range(0,10): #here we are assigning two parameter 'start' and 'stop' to the function \n",
    "    print(i) #output will be same as previous but here we are giving a starting point to the interpreter."
   ]
  },
  {
   "cell_type": "code",
   "execution_count": 6,
   "id": "508d038c",
   "metadata": {},
   "outputs": [
    {
     "name": "stdout",
     "output_type": "stream",
     "text": [
      "0\n",
      "1\n",
      "2\n",
      "3\n",
      "4\n",
      "5\n",
      "6\n",
      "7\n",
      "8\n",
      "9\n"
     ]
    }
   ],
   "source": [
    "for i in range(0,10,1): #here we are assigning three parameters 'start','stop' and 'step' to the function \n",
    "    print(i)\n",
    "      \"\"\"\n",
    "         output will be same as previous but here we are giving all the necesary information to the interpreter i.e    \n",
    "         a starting point, an ending point and step(number of steps to skip).\n",
    "         \n",
    "      \"\"\"\n",
    "    "
   ]
  },
  {
   "cell_type": "markdown",
   "id": "f2153e06",
   "metadata": {},
   "source": [
    "12. Write a short program that prints the numbers 1 to 10 using a for loop. Then write an equivalent\n",
    "program that prints the numbers 1 to 10 using a while loop."
   ]
  },
  {
   "cell_type": "code",
   "execution_count": 7,
   "id": "cecbc672",
   "metadata": {},
   "outputs": [
    {
     "name": "stdout",
     "output_type": "stream",
     "text": [
      "1\n",
      "2\n",
      "3\n",
      "4\n",
      "5\n",
      "6\n",
      "7\n",
      "8\n",
      "9\n",
      "10\n"
     ]
    }
   ],
   "source": [
    "for i in range(1,11):\n",
    "    print(i)"
   ]
  },
  {
   "cell_type": "code",
   "execution_count": 1,
   "id": "eb38c1e8",
   "metadata": {},
   "outputs": [
    {
     "name": "stdout",
     "output_type": "stream",
     "text": [
      "1\n",
      "2\n",
      "3\n",
      "4\n",
      "5\n",
      "6\n",
      "7\n",
      "8\n",
      "9\n",
      "10\n"
     ]
    }
   ],
   "source": [
    "jump = 1\n",
    "while jump <=10:\n",
    "    print(jump)\n",
    "    jump+=1"
   ]
  },
  {
   "cell_type": "markdown",
   "id": "0b21f0c8",
   "metadata": {},
   "source": [
    "13. If you had a function named bacon() inside a module named spam, how would you call it after\n",
    "importing spam?"
   ]
  },
  {
   "cell_type": "raw",
   "id": "ea5bcbc1",
   "metadata": {},
   "source": [
    "Ans= first of all we have to import the spam module by using import statement i.e.\n",
    "     import spam\n",
    "     after importing the spam module to call the bacon() function we will use following syntax.\n",
    "     module_name.function_name\n",
    "     in our case it will be\n",
    "     spam.bacon()\n",
    "     "
   ]
  }
 ],
 "metadata": {
  "kernelspec": {
   "display_name": "Python 3 (ipykernel)",
   "language": "python",
   "name": "python3"
  },
  "language_info": {
   "codemirror_mode": {
    "name": "ipython",
    "version": 3
   },
   "file_extension": ".py",
   "mimetype": "text/x-python",
   "name": "python",
   "nbconvert_exporter": "python",
   "pygments_lexer": "ipython3",
   "version": "3.11.5"
  }
 },
 "nbformat": 4,
 "nbformat_minor": 5
}
