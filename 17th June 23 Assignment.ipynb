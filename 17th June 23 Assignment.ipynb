{
 "cells": [
  {
   "cell_type": "code",
   "execution_count": null,
   "metadata": {
    "id": "wztyUJLe15Ap"
   },
   "outputs": [],
   "source": [
    "1. What is the role of try and exception block?\n"
   ]
  },
  {
   "cell_type": "markdown",
   "metadata": {
    "id": "-SHL8s_GBnAr"
   },
   "source": [
    "# **Role of try and exception block**\n",
    "\n",
    "*   The try and except blocks in Python are used for handling exceptions,which are errors that occur during the execution of a program. The purpose of these blocks is to allow the program to continue running or to handle errors gracefully without crashing.\n",
    "\n",
    "*   The **try block** bold text contains the code that might raise an exception,It allows us to specify the section of code that we want to monitor for exceptions.\n",
    "\n",
    "*  **except block:** If an exception occurs within the try block, the corresponding except block(s) are executed. The except block allows us to define the actions or code that should be executed when a specific exception is raised. we can have multiple except blocks to handle different types of exceptions.\n",
    "\n",
    "* The **else block** allows to run code without errors.   \n",
    "\n",
    "* The **finally block** executes code regardless of the try-and-except blocks.\n",
    "We use the **\"raise\"** keyword to throw (or raise) an exception.\n",
    "\n",
    "\n",
    "\n",
    "\n",
    "\n"
   ]
  },
  {
   "cell_type": "code",
   "execution_count": null,
   "metadata": {
    "colab": {
     "base_uri": "https://localhost:8080/"
    },
    "id": "7m0uiIOAElTD",
    "outputId": "a25daf7f-4718-47a7-e2cc-d4a99751ef6b"
   },
   "outputs": [
    {
     "name": "stdout",
     "output_type": "stream",
     "text": [
      "You can't divide by zero!\n"
     ]
    }
   ],
   "source": [
    "'''2. What is the syntax for a basic try-except block?\n",
    "try:\n",
    "    # Code that may raise an exception\n",
    "    risky_code()\n",
    "except ExceptionType:\n",
    "    # Code that runs if the specified exception occurs\n",
    "    handle_exception()\n",
    "'''\n",
    "try:\n",
    "    result = 10 / 0\n",
    "except ZeroDivisionError:\n",
    "    print(\"You can't divide by zero!\")"
   ]
  },
  {
   "cell_type": "code",
   "execution_count": null,
   "metadata": {
    "colab": {
     "base_uri": "https://localhost:8080/",
     "height": 349
    },
    "collapsed": true,
    "id": "B149uBVAGHSJ",
    "outputId": "5a4793d0-786f-498d-d785-f9d966e7a7f2"
   },
   "outputs": [
    {
     "name": "stdout",
     "output_type": "stream",
     "text": [
      "You can't divide by zero!\n"
     ]
    },
    {
     "ename": "TypeError",
     "evalue": "unsupported operand type(s) for /: 'int' and 'str'",
     "output_type": "error",
     "traceback": [
      "\u001b[0;31m---------------------------------------------------------------------------\u001b[0m",
      "\u001b[0;31mTypeError\u001b[0m                                 Traceback (most recent call last)",
      "\u001b[0;32m<ipython-input-4-fa6e6b60cc0e>\u001b[0m in \u001b[0;36m<cell line: 9>\u001b[0;34m()\u001b[0m\n\u001b[1;32m      7\u001b[0m \u001b[0;34m\u001b[0m\u001b[0m\n\u001b[1;32m      8\u001b[0m \u001b[0mdivide\u001b[0m\u001b[0;34m(\u001b[0m\u001b[0;36m10\u001b[0m\u001b[0;34m,\u001b[0m \u001b[0;36m0\u001b[0m\u001b[0;34m)\u001b[0m  \u001b[0;31m# This will be caught by the except block\u001b[0m\u001b[0;34m\u001b[0m\u001b[0;34m\u001b[0m\u001b[0m\n\u001b[0;32m----> 9\u001b[0;31m \u001b[0mdivide\u001b[0m\u001b[0;34m(\u001b[0m\u001b[0;36m10\u001b[0m\u001b[0;34m,\u001b[0m \u001b[0;34m'a'\u001b[0m\u001b[0;34m)\u001b[0m  \u001b[0;31m# This will not be caught and will propagate\u001b[0m\u001b[0;34m\u001b[0m\u001b[0;34m\u001b[0m\u001b[0m\n\u001b[0m\u001b[1;32m     10\u001b[0m \u001b[0;34m\u001b[0m\u001b[0m\n\u001b[1;32m     11\u001b[0m \u001b[0mprint\u001b[0m\u001b[0;34m(\u001b[0m\u001b[0;34m\"This will not be printed if an exception is not caught.\"\u001b[0m\u001b[0;34m)\u001b[0m\u001b[0;34m\u001b[0m\u001b[0;34m\u001b[0m\u001b[0m\n",
      "\u001b[0;32m<ipython-input-4-fa6e6b60cc0e>\u001b[0m in \u001b[0;36mdivide\u001b[0;34m(a, b)\u001b[0m\n\u001b[1;32m      2\u001b[0m \u001b[0;32mdef\u001b[0m \u001b[0mdivide\u001b[0m\u001b[0;34m(\u001b[0m\u001b[0ma\u001b[0m\u001b[0;34m,\u001b[0m \u001b[0mb\u001b[0m\u001b[0;34m)\u001b[0m\u001b[0;34m:\u001b[0m\u001b[0;34m\u001b[0m\u001b[0;34m\u001b[0m\u001b[0m\n\u001b[1;32m      3\u001b[0m     \u001b[0;32mtry\u001b[0m\u001b[0;34m:\u001b[0m\u001b[0;34m\u001b[0m\u001b[0;34m\u001b[0m\u001b[0m\n\u001b[0;32m----> 4\u001b[0;31m         \u001b[0mresult\u001b[0m \u001b[0;34m=\u001b[0m \u001b[0ma\u001b[0m \u001b[0;34m/\u001b[0m \u001b[0mb\u001b[0m\u001b[0;34m\u001b[0m\u001b[0;34m\u001b[0m\u001b[0m\n\u001b[0m\u001b[1;32m      5\u001b[0m     \u001b[0;32mexcept\u001b[0m \u001b[0mZeroDivisionError\u001b[0m\u001b[0;34m:\u001b[0m\u001b[0;34m\u001b[0m\u001b[0;34m\u001b[0m\u001b[0m\n\u001b[1;32m      6\u001b[0m         \u001b[0mprint\u001b[0m\u001b[0;34m(\u001b[0m\u001b[0;34m\"You can't divide by zero!\"\u001b[0m\u001b[0;34m)\u001b[0m\u001b[0;34m\u001b[0m\u001b[0;34m\u001b[0m\u001b[0m\n",
      "\u001b[0;31mTypeError\u001b[0m: unsupported operand type(s) for /: 'int' and 'str'"
     ]
    }
   ],
   "source": [
    "#3.What happens if an exception occurs inside a try block and there is no matching except block?\n",
    "def divide(a, b):\n",
    "    try:\n",
    "        result = a / b\n",
    "    except ZeroDivisionError:\n",
    "        print(\"You can't divide by zero!\")\n",
    "\n",
    "divide(10, 0)  # This will be caught by the except block\n",
    "divide(10, 'a')  # This will not be caught and will propagate\n",
    "\n",
    "print(\"This will not be printed if an exception is not caught.\")\n",
    "\n",
    "'''If the exception is not caught by any except block, the program terminates.\n",
    "Python provides a traceback to help diagnose where and why the exception occurred.\n",
    "The message \"This will not be printed if an exception is not caught.\"\n",
    "will not be printed because the program terminates due to the unhandled TypeError.'''"
   ]
  },
  {
   "cell_type": "markdown",
   "metadata": {
    "id": "eRGTqnJ8Nyx4"
   },
   "source": [
    "**4.What is the difference between using a bare except block and specifying a specific exception type?**\n",
    "\n",
    "Using a bare except block versus specifying a specific exception type in Python has significant differences in terms of control, readability, and safety. Here's a detailed explanation of the differences:\n",
    "\n",
    "**Bare Except Block**\n",
    "\n",
    "A bare except block catches all exceptions, regardless of their type.\n",
    "\n",
    "*  **The advantage** is  Catch-All : It catches any exception, ensuring that the program doesn't crash unexpectedly.\n",
    "\n",
    "# The disadvantages are:\n",
    "\n",
    "*   **Error Masking**: It can unintentionally catch and hide exceptions that we wont be able to anticipate, making debugging difficult\n",
    "*  **Unreadable Code**: It is less clear what kinds of errors you're expecting or intending to handle, which can make the code harder to understand.\n",
    "*   **Poor Practices:** It might lead to handling exceptions that should have been allowed to propagate, potentially causing issues elsewhere in the code.\n",
    "\n",
    "\n",
    "\n",
    "\n",
    "\n",
    "\n"
   ]
  },
  {
   "cell_type": "code",
   "execution_count": null,
   "metadata": {
    "colab": {
     "base_uri": "https://localhost:8080/"
    },
    "id": "o77SsOq-mGu2",
    "outputId": "799244e4-f412-4b62-c78f-a2fbc3c16db3"
   },
   "outputs": [
    {
     "name": "stdout",
     "output_type": "stream",
     "text": [
      "Enter a numerator : 2\n",
      "Enter a denominator :0.2\n",
      "An error occured\n"
     ]
    }
   ],
   "source": [
    "def divide_numbers():\n",
    "  try:\n",
    "    a = int(input(\"Enter a numerator : \"))\n",
    "    b = int(input(\"Enter a denominator :\"))\n",
    "    result = a/b\n",
    "    print(result)\n",
    "  except:\n",
    "    print(\"An error occured\")\n",
    "\n",
    "divide_numbers()\n",
    "#In this example, if the user enters a non-integer value or if the denominator is zero,\n",
    "#the except block will catch the exception and print \"An error occurred!\" without specifying the nature of the error."
   ]
  },
  {
   "cell_type": "markdown",
   "metadata": {
    "id": "9CueNjDmQXv_"
   },
   "source": [
    "# Specifying a Specific Exception Type\n",
    "Specifying a specific exception type means we only catch exceptions of that particular type.\n",
    "\n",
    "**Pros**\n",
    "\n",
    "**Precision:** Only catches the exceptions we expect and know how to handle, making the code more predictable.\n",
    "\n",
    "**Readability:** It's clear what exceptions we anticipate and how we're handling them, improving code readability.\n",
    "\n",
    "**Debugging:** Unanticipated exceptions are not caught and can be allowed to propagate, making it easier to debug unexpected issues.\n",
    "\n",
    "**Cons**\n",
    "\n",
    "**Limited Scope:** If we miss an exception type, it won't be caught, potentially causing the program to crash."
   ]
  },
  {
   "cell_type": "code",
   "execution_count": null,
   "metadata": {
    "colab": {
     "base_uri": "https://localhost:8080/"
    },
    "id": "cIrkhul1QwB3",
    "outputId": "9299b104-8671-4ddc-e35f-220fccfd8420"
   },
   "outputs": [
    {
     "name": "stdout",
     "output_type": "stream",
     "text": [
      "Enter the value for numerator: 52\n",
      "Enter the value for denominator: string\n",
      "Invalid input ! Enter valid Integer.\n"
     ]
    }
   ],
   "source": [
    "def divi_sion():\n",
    "  try:\n",
    "    a = int(input(\"Enter the value for numerator: \"))\n",
    "    b = int(input(\"Enter the value for denominator: \"))\n",
    "    output = a/b\n",
    "    print(\"the result is\",output)\n",
    "  except ZeroDivisionError:\n",
    "    print(\"Can't divide by zero !\")\n",
    "  except ValueError:\n",
    "    print(\"Invalid input ! Enter valid Integer.\")\n",
    "  except Exception as e:\n",
    "    print(f\"An unexpected error occured {e}\")\n",
    "\n",
    "divi_sion()\n",
    "#By specifying exception types,the program provides more informative feedback and is easier to debug and maintain."
   ]
  },
  {
   "cell_type": "code",
   "execution_count": 1,
   "metadata": {
    "colab": {
     "base_uri": "https://localhost:8080/"
    },
    "id": "sgeINxd85iZF",
    "outputId": "4f636cd5-b679-4cc0-fede-5a9300833db1"
   },
   "outputs": [
    {
     "name": "stdout",
     "output_type": "stream",
     "text": [
      "Processed result: 5.0\n",
      "Processed result: 2.5\n",
      "Error: Division by zero for item 0\n",
      "Processed result: 1.25\n",
      "Error: Input data should be iterable\n",
      "Error: Input data should be iterable\n"
     ]
    }
   ],
   "source": [
    "#5. Can you have nested try-except blocks in Python? If yes, then give an example.\n",
    "def process_items(items):\n",
    "    try:\n",
    "        for item in items:\n",
    "            try:\n",
    "                result = 10/item\n",
    "                print(f\"Processed result: {result}\")\n",
    "            except ZeroDivisionError:\n",
    "                print(f\"Error: Division by zero for item {item}\")\n",
    "    except TypeError:\n",
    "        print(\"Error: Input data should be iterable\")\n",
    "\n",
    "# Example usage:\n",
    "process_items([2, 4, 0, 8])\n",
    "process_items(123)\n",
    "process_items(0)\n",
    "\n",
    "'''The outer try block handles errors related to the input data not being iterable.\n",
    "If items is not a list or another iterable, a TypeError will be caught by the outer except block.\n",
    "The inner try block handles errors that occur during the processing of each individual item in the iterable.\n",
    "Specifically, it catches ZeroDivisionError when trying to divide by zero.'''"
   ]
  },
  {
   "cell_type": "code",
   "execution_count": null,
   "metadata": {
    "colab": {
     "base_uri": "https://localhost:8080/"
    },
    "id": "IpaVyI6A3Nac",
    "outputId": "5ad92928-fe73-4b2e-b179-bee88059ff2d"
   },
   "outputs": [
    {
     "name": "stdout",
     "output_type": "stream",
     "text": [
      "Error: Please provide a list of numbers.\n"
     ]
    }
   ],
   "source": [
    "#6. Can we use multiple exception blocks, if yes then give an example.\n",
    "#Using multiple exception blocks allows us to provide more specific error messages or handling strategies based on the type of error encountered\n",
    "def calculate_average(numbers):\n",
    "  try:\n",
    "    total = sum(numbers)\n",
    "    average = total / len(numbers)\n",
    "    print(f\"The average is: {average}\")\n",
    "  except ZeroDivisionError:\n",
    "     print(\"Error: Cannot calculate average with an empty list.\")\n",
    "  except TypeError:\n",
    "    print(\"Error: Please provide a list of numbers.\")\n",
    "  except Exception as e:\n",
    "    print(f\"An unexpected error occurred: {e}\")\n",
    "\n",
    "\n",
    "calculate_average([10,'i'])\n"
   ]
  },
  {
   "cell_type": "markdown",
   "metadata": {
    "id": "EqSFvAwyrgXn"
   },
   "source": [
    "\n",
    "# 7. Write the reason due to which following errors are raised:\n",
    "\n",
    "a. **EOFError**: Raised when the `input()` function hits an end-of-file condition (EOF) without reading any data. This typically happens when the input() function reaches the end of input during interactive input.\n",
    "\n",
    "b. **FloatingPointError**: Raised when a floating point operation fails. This can occur with operations like division by zero or computing mathematical functions that are undefined\n",
    "\n",
    "c. **IndexError**: Raised when trying to access an element in a sequence (e.g., list, tuple) using an index that is out of range (i.e., negative or greater than or equal to the length of the sequence).\n",
    "\n",
    "d. **MemoryError**: Raised when an operation runs out of memory but requires more than what is available. This typically occurs with large data structures or when memory is exhausted due to excessive allocation.\n",
    "\n",
    "e. **OverflowError**: Raised when the result of an arithmetic operation exceeds the maximum limit for a numeric type. This can happen with integers that are too large to be represented within the allowed range.\n",
    "\n",
    "f. **TabError**: Raised when indentation contains inconsistent tabs and spaces in a block of Python code. Python expects consistent use of either tabs or spaces for indentation but not a mix of both in the same block.\n",
    "\n",
    "g. **ValueError**: Raised when a function receives an argument of the correct type but with an inappropriate value. This can include trying to convert a string to an integer when the string does not represent a valid integer, or passing an invalid argument to a function."
   ]
  },
  {
   "cell_type": "code",
   "execution_count": null,
   "metadata": {
    "colab": {
     "base_uri": "https://localhost:8080/"
    },
    "id": "QXiIXUeJ93yY",
    "outputId": "b26360ca-f39f-4ccc-e761-86628ae8cf46"
   },
   "outputs": [
    {
     "name": "stdout",
     "output_type": "stream",
     "text": [
      "Enter first number:5\n",
      "Enter second number:0\n",
      "Cant divide by 0\n"
     ]
    }
   ],
   "source": [
    "'''8. Write code for the following given scenario and add try-exception block to it.\n",
    "a. Program to divide two numbers\n",
    "b. Program to convert a string to an integer\n",
    "c. Program to access an element in a list\n",
    "d. Program to handle a specific exception\n",
    "e. Program to handle any exception'''\n",
    "\n",
    "#a. Program to divide two numbers\n",
    "def d():\n",
    "  try:\n",
    "    a = int(input(\"Enter first number:\"))\n",
    "    b = int(input(\"Enter second number:\"))\n",
    "    result = a/b\n",
    "    print(f\"Division of {a} and {b} is {result}\")\n",
    "  except ZeroDivisionError:\n",
    "    print(\"Cant divide by 0\")\n",
    "  except ValueError:\n",
    "    print(\"inavlid input ! Please enter correct values\")\n",
    "\n",
    "d()"
   ]
  },
  {
   "cell_type": "code",
   "execution_count": null,
   "metadata": {
    "colab": {
     "base_uri": "https://localhost:8080/"
    },
    "id": "9VyJxctBgZSi",
    "outputId": "e175d504-045b-407c-c3fe-aa92d6943105"
   },
   "outputs": [
    {
     "name": "stdout",
     "output_type": "stream",
     "text": [
      "Enter a string : test\n",
      "Invalid input. Please enter a valid integer string\n"
     ]
    }
   ],
   "source": [
    "#b. Program to convert a string to an integer\n",
    "def str_to_int():\n",
    "  try:\n",
    "    a = input(\"Enter a string : \")\n",
    "    res = int(a)\n",
    "  except ValueError:\n",
    "    print(\"Invalid input. Please enter a valid integer string\")\n",
    "  else:\n",
    "    print(f\"The String {a} is converted into Integer\")\n",
    "\n",
    "str_to_int()"
   ]
  },
  {
   "cell_type": "code",
   "execution_count": null,
   "metadata": {
    "colab": {
     "base_uri": "https://localhost:8080/"
    },
    "id": "Svmg1vFxHdm2",
    "outputId": "3220c57f-44f1-41e1-8ddf-899f03e050bb"
   },
   "outputs": [
    {
     "name": "stdout",
     "output_type": "stream",
     "text": [
      "Enter the Roll number of student : 65\n",
      "Roll number not found. Please provide a valid Roll number.\n"
     ]
    }
   ],
   "source": [
    "#c.Program to access an element in a list\n",
    "def Roll_number():\n",
    "  try:\n",
    "    Students = [\"Raj\",\"Simran\",\"Rahul\",\"Anjali\",\"Tina\",\"Geet\",\"Aditya\",\"Karan\",\"Arjun\"]\n",
    "    a = int(input(\"Enter the Roll number of student : \"))\n",
    "     # Adjusting roll_number to 0-based index for list access\n",
    "    Student_name = Students[a-1]\n",
    "    return Student_name\n",
    "  except IndexError:\n",
    "    print(\"Roll number not found. Please provide a valid Roll number.\")\n",
    "  except TypeError:\n",
    "    print(\"Invalid input. Roll number must be an integer.\")\n",
    "  except ValueError:\n",
    "    print(\"Invalid input !!. Roll number must be Numeric Value\")\n",
    "  else:\n",
    "    print(f\"The Student with Roll Number {a} is {Student_name}\")\n",
    "\n",
    "Roll_number()"
   ]
  },
  {
   "cell_type": "code",
   "execution_count": null,
   "metadata": {
    "colab": {
     "base_uri": "https://localhost:8080/"
    },
    "id": "J1LDT8mjHl93",
    "outputId": "a42b5cce-6440-4649-d1ce-08303e5141fe"
   },
   "outputs": [
    {
     "name": "stdout",
     "output_type": "stream",
     "text": [
      "Enter the Roll number of student : three\n",
      "Invalid input !!. Roll number must be Numeric Value\n"
     ]
    }
   ],
   "source": [
    "Roll_number()"
   ]
  },
  {
   "cell_type": "code",
   "execution_count": null,
   "metadata": {
    "colab": {
     "base_uri": "https://localhost:8080/",
     "height": 53
    },
    "id": "uJeKx0m_tjEr",
    "outputId": "acdbfb2b-f154-4952-b762-d4b5c762cb82"
   },
   "outputs": [
    {
     "name": "stdout",
     "output_type": "stream",
     "text": [
      "File Name :program.txt\n"
     ]
    },
    {
     "data": {
      "application/vnd.google.colaboratory.intrinsic+json": {
       "type": "string"
      },
      "text/plain": [
       "\"Error: The file 'program.txt' does not exist.\""
      ]
     },
     "execution_count": 2,
     "metadata": {},
     "output_type": "execute_result"
    }
   ],
   "source": [
    "#d. Program to handle a specific exception\n",
    "#The below program catches the FileNotFoundError exception specifically using except FileNotFoundError:\n",
    "#and returns a custom error message indicating that the file does not exist.\n",
    "\n",
    "def read_file():\n",
    "    try:\n",
    "      filename = input(\"File Name :\")\n",
    "      with open(filename, 'r') as file:\n",
    "        content = file.read()\n",
    "        return content\n",
    "    except FileNotFoundError:\n",
    "        return f\"Error: The file '{filename}' does not exist.\"\n",
    "\n",
    "read_file()"
   ]
  },
  {
   "cell_type": "code",
   "execution_count": null,
   "metadata": {
    "colab": {
     "base_uri": "https://localhost:8080/"
    },
    "id": "g-4TZX_CyaJc",
    "outputId": "2b24d91a-9fbc-449e-ba5e-68bdd7567c89"
   },
   "outputs": [
    {
     "name": "stdout",
     "output_type": "stream",
     "text": [
      "Enter an integer : )(*\n",
      "An error occurred: invalid literal for int() with base 10: ')(*'\n"
     ]
    }
   ],
   "source": [
    "#e. Program to handle any exception\n",
    "import math\n",
    "def sq_root():\n",
    "  try:\n",
    "    a = int(input(\"Enter an integer : \"))\n",
    "    res = math.sqrt(a)\n",
    "    print(f\"square root of {a} is {res}\")\n",
    "\n",
    "  except Exception as e:\n",
    "    print(f\"An error occurred: {e}\")\n",
    "\n",
    "sq_root()\n",
    "\n",
    "#If any exception occurs during the execution of the try block, it will be caught by the except Exception as e:\n",
    "#The Exception class is the base class for all exceptions in Python,\n",
    "#so this except block will catch any type of exception that might occur."
   ]
  }
 ],
 "metadata": {
  "colab": {
   "provenance": []
  },
  "kernelspec": {
   "display_name": "Python 3 (ipykernel)",
   "language": "python",
   "name": "python3"
  },
  "language_info": {
   "codemirror_mode": {
    "name": "ipython",
    "version": 3
   },
   "file_extension": ".py",
   "mimetype": "text/x-python",
   "name": "python",
   "nbconvert_exporter": "python",
   "pygments_lexer": "ipython3",
   "version": "3.11.5"
  }
 },
 "nbformat": 4,
 "nbformat_minor": 1
}
