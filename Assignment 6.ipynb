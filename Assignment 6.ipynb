{
  "nbformat": 4,
  "nbformat_minor": 0,
  "metadata": {
    "colab": {
      "provenance": []
    },
    "kernelspec": {
      "name": "python3",
      "display_name": "Python 3"
    },
    "language_info": {
      "name": "python"
    }
  },
  "cells": [
    {
      "cell_type": "code",
      "execution_count": null,
      "metadata": {
        "colab": {
          "base_uri": "https://localhost:8080/"
        },
        "id": "ue4KpB_FkQpL",
        "outputId": "72aab8d3-bce4-45b6-d951-c15b1d287be6"
      },
      "outputs": [
        {
          "output_type": "stream",
          "name": "stdout",
          "text": [
            "Python Keywords:\n",
            "False\n",
            "None\n",
            "True\n",
            "and\n",
            "as\n",
            "assert\n",
            "async\n",
            "await\n",
            "break\n",
            "class\n",
            "continue\n",
            "def\n",
            "del\n",
            "elif\n",
            "else\n",
            "except\n",
            "finally\n",
            "for\n",
            "from\n",
            "global\n",
            "if\n",
            "import\n",
            "in\n",
            "is\n",
            "lambda\n",
            "nonlocal\n",
            "not\n",
            "or\n",
            "pass\n",
            "raise\n",
            "return\n",
            "try\n",
            "while\n",
            "with\n",
            "yield\n"
          ]
        }
      ],
      "source": [
        "#Q.1. What are keywords in python? Using the keyword library, print all the python keywords.\n",
        "#keywords are reserved words that have special meanings and cannot be used as identifiers (variable names, function names, etc.).\n",
        "#Python has a keyword module that provides a list of reserved words. We can use the kwlist attribute of the keyword module to get a list of all Python keywords.\n",
        "import keyword\n",
        "\n",
        "keywords_list = keyword.kwlist\n",
        "\n",
        "print(\"Python Keywords:\")\n",
        "for keyword in keywords_list:\n",
        "    print(keyword)"
      ]
    },
    {
      "cell_type": "code",
      "source": [
        "#Q.2. What are the rules to create variables in python?\n",
        "'''variables are used to store and represent data. Here are the rules for creating variables in Python:\n",
        "\n",
        "Variable Name Rules:\n",
        "Variable names must begin with a letter (a-z, A-Z) or an underscore (_).\n",
        "A variable name cannot start with a number.\n",
        "The remaining characters in a variable name can include letters, numbers, and underscores.\n",
        "Variable names are case-sensitive, so myVar and myvar are different variables.\n",
        "\n",
        "Avoid using Python keywords as variable names. we can check the list of keywords using the keyword module, as mentioned in the previous answers.\n",
        "\n",
        "Avoid using whitespaces within variable names. If we need to represent multiple words.\n",
        "\n",
        "Avoid using special characters such as !, @, #, $, %, etc. in variable names. Underscore (_) is an exception and can be used."
      ],
      "metadata": {
        "id": "T8DoqOrTlA2W"
      },
      "execution_count": null,
      "outputs": []
    },
    {
      "cell_type": "code",
      "source": [
        "'''Q.3. What are the standards and conventions followed for the nomenclature of variables in\n",
        "python to improve code readability and maintainability?\n",
        "\n",
        "Snake Case for Variables:\n",
        "Use lowercase letters with underscores to separate words. For example: my_variable, total_count, user_name.\n",
        "\n",
        "In camel case,\n",
        "We start a name with a small letter. If the name has multiple words, the later words will start with a capital letter:firstName and lastName\n",
        "\n",
        "Constants:\n",
        "Constants are usually defined in all uppercase with underscores separating words. For example: MAX_SIZE, PI, DEFAULT_VALUE.\n",
        "\n",
        "Class Names:\n",
        "Classnames should follow the CapWords (or CamelCase) convention, where each word starts with a capital letter. For example: MyClass, CarModel, EmployeeDetails.\n",
        "\n",
        "Function Names:\n",
        "Function names should also be in lowercase with underscores separating words. For example: calculate_total, process_data, get_user_info.\n",
        "\n",
        "Module Names:\n",
        "Module names should be short, lowercase, and can use underscores if needed. For example: utils.py, data_processing.py.\n",
        "\n",
        "Single Leading Underscore (Convention):\n",
        "A single leading underscore is sometimes used to indicate that a variable or method is intended for internal use and should not be accessed from outside the module or class.\n",
        "For example: _internal_variable, _internal_method().\n",
        "\n",
        "Trailing Underscore (Convention):\n",
        "A trailing underscore is sometimes used to avoid naming conflicts with Python keywords. For example: class_, def_.\n",
        "\n",
        "Abbreviations:\n",
        "Avoid using abbreviations that may not be clear to others. Choose descriptive and meaningful names whenever possible.'''"
      ],
      "metadata": {
        "id": "afemC0Zy4EyX"
      },
      "execution_count": null,
      "outputs": []
    },
    {
      "cell_type": "code",
      "source": [
        "'''Q.4. What will happen if a keyword is used as a variable name?\n",
        "If a keyword is used as a variable name in Python, it will result in a syntax error.\n",
        "Keywords are reserved words in Python that have special meanings and functions, and they cannot be used as identifiers (variable names, function names, etc.)\n",
        "for example.-'''\n",
        "class = 10 #we tried to assign value 10 to class , as class if keyword we received an error \"Invalid syntax\"\n",
        "\n",
        "#To avoid such errors, it's important to choose variable names that do not conflict with Python keywords"
      ],
      "metadata": {
        "colab": {
          "base_uri": "https://localhost:8080/",
          "height": 144
        },
        "id": "08v-W_M64MCm",
        "outputId": "edbea717-c7ea-4be4-e001-87f19e75fec5"
      },
      "execution_count": null,
      "outputs": [
        {
          "output_type": "error",
          "ename": "SyntaxError",
          "evalue": "invalid syntax (<ipython-input-4-f7dba04030f6>, line 5)",
          "traceback": [
            "\u001b[0;36m  File \u001b[0;32m\"<ipython-input-4-f7dba04030f6>\"\u001b[0;36m, line \u001b[0;32m5\u001b[0m\n\u001b[0;31m    class = 10 #we tried to assign value 10 to class , as class if keyword we received an error \"Invalid syntax\"\u001b[0m\n\u001b[0m          ^\u001b[0m\n\u001b[0;31mSyntaxError\u001b[0m\u001b[0;31m:\u001b[0m invalid syntax\n"
          ]
        }
      ]
    },
    {
      "cell_type": "code",
      "source": [
        "Q.5. For what purpose def keyword is used?\n",
        "The def keyword in Python is used to define a function. Functions are blocks of reusable code that perform a specific task.\n",
        "By using the def keyword, we can create our own functions and give them a name."
      ],
      "metadata": {
        "id": "BxfNRltM4I8m"
      },
      "execution_count": null,
      "outputs": []
    },
    {
      "cell_type": "code",
      "source": [
        "#.6. What is the operation of this special character ‘\\’\n",
        "\n",
        "#The backslash (\\) is a special character and it is used as an escape character.\n",
        "\n",
        "print(\"This is a new line.\\nThis is on the next line.\")\n",
        "#In this example, \\n is an escape sequence representing a newline character."
      ],
      "metadata": {
        "colab": {
          "base_uri": "https://localhost:8080/"
        },
        "id": "dSbYWPYW89Gw",
        "outputId": "8c7ee2b4-17a3-4318-9c34-603639039c78"
      },
      "execution_count": null,
      "outputs": [
        {
          "output_type": "stream",
          "name": "stdout",
          "text": [
            "This is a new line.\n",
            "This is on the next line.\n"
          ]
        }
      ]
    },
    {
      "cell_type": "code",
      "source": [
        "'''Q.7. Give an example of the following conditions:\n",
        "(i) Homogeneous list\n",
        "(ii) Heterogeneous set\n",
        "(iii) Homogeneous tuple\n",
        "\n",
        "(i) Homogeneous List:\n",
        "A homogeneous list in Python contains elements of the same data type. Here is an example of a list containing integers:'''\n",
        "homogeneous_list = [1, 2, 3, 4, 5]\n",
        "print(\"homogeneous_list:\",homogeneous_list) #All elements in list are of the integer data type.\n",
        "\n",
        "#ii) Heterogeneous Set:\n",
        "#A heterogeneous set in Python can contain elements of different data types. Here's an example of a set containing integers, strings, and a float:\n",
        "heterogeneous_set = {1, \"apple\", 3.14, \"banana\", 5}\n",
        "print(\"heterogeneous_set:\",heterogeneous_set)\n",
        "\n",
        "#(iii) Homogeneous Tuple:\n",
        "#A homogeneous tuple in Python contains elements of the same data type. Here's an example of a tuple containing strings:\n",
        "homogeneous_tuple = (\"apple\", \"banana\", \"orange\", \"grape\")\n",
        "print(\"homogeneous_tuple:\",homogeneous_tuple)\n"
      ],
      "metadata": {
        "colab": {
          "base_uri": "https://localhost:8080/"
        },
        "id": "_xH-gCb8-6mr",
        "outputId": "41e123a7-f970-4622-fc37-c7a647cbc704"
      },
      "execution_count": null,
      "outputs": [
        {
          "output_type": "stream",
          "name": "stdout",
          "text": [
            "homogeneous_list: [1, 2, 3, 4, 5]\n",
            "heterogeneous_set: {1, 3.14, 5, 'banana', 'apple'}\n",
            "homogeneous_tuple: ('apple', 'banana', 'orange', 'grape')\n"
          ]
        }
      ]
    },
    {
      "cell_type": "code",
      "source": [
        "'''Q.8. Explain the mutable and immutable data types with proper explanation & examples.\n",
        "\n",
        "MUTABLE DATA TYPES\n",
        "Mutable data types are those whose values can be modified or changed after the object is created.\n",
        "When we modify a mutable object, we are actually changing the content of the object, not creating a new one. Here are examples of mutable data types:\n",
        "\n",
        "List:\n",
        "Lists in Python are mutable. we can change, add, or remove elements from a list after it has been created.'''\n",
        "list1 = [1, 2, 3]\n",
        "list1[0] = 100\n",
        "print(list1)  # Output: [100, 2, 3]\n",
        "\n",
        "#Dictionary:\n",
        "#Dictionaries allow modifications to the key-value pairs after the dictionary is created.Hence dictonaries are Mutable data type.\n",
        "dict1 = {'ram': '2016'}\n",
        "dict1['ram'] = '2018'\n",
        "print(dict1)  # Output: {'ram': '2018'}\n",
        "\n",
        "#Set:\n",
        "#Sets are mutable and can be modified by adding or removing elements.\n",
        "set1 = {11, 12, 13}\n",
        "set1.add(14)\n",
        "print(set1)  # Output: {11, 12, 13, 14}\n",
        "\n",
        "'''IMMUTABLE DATA TYPES\n",
        "Immutable Data Types:\n",
        "Immutable data types, on the other hand, cannot be modified after creation.\n",
        "When we want to change the value of an immutable object, we create a new object. Here are examples of immutable data types:\n",
        "\n",
        "Tuple:\n",
        "Tuples are immutable. Once a tuple is created, we cannot modify its elements.'''\n",
        "tuple1 = (1, 2, 3)\n",
        "# The following line would result in an error:\n",
        "#tuple1[0] = 100 # 'tuple' object does not support item assignment\n",
        "\n",
        "#String:\n",
        "#Strings are immutable in Python. We cannot modify individual characters in a string\n",
        "string1 = \"Hello\"\n",
        "\n",
        "# The following line would result in an error:\n",
        "#string1[0] = 'h'#str' object does not support item assignment\n",
        "\n",
        "#Integer:\n",
        "#Integers are immutable.immutable objects change their memory address when they get updated.\n",
        "intVariable = 20\n",
        "print('memory address before updating var: ', id(intVariable))\n",
        "\n",
        "'''In Python, the id() function returns the identity (memory address) of an object.\n",
        "The id() function takes an object as an argument and returns an integer representing its unique identity in the memory.'''\n",
        "\n",
        "# Updating an immutable object by assigning a new value to it.\n",
        "# It will now refer to the new object and defer the previously created object.\n",
        "\n",
        "intVariable=30\n",
        "print('memory address after updating var: ', id(intVariable))\n",
        "\n",
        "'''We assigned some integer value to a variable.\n",
        "Then, we print the id of that variable.\n",
        "After updating the variable, we again print the id of that variable.\n",
        "The output for both times is different.\n",
        "This implies that the integers are immutable in nature as another object of integer was created and referenced on updating its value.\n",
        "\n",
        "float :\n",
        "float is immutable in nature, so we can't change or update the float data-type.\n",
        "As we saw earlier in integer example, that immutable objects change their memory address when they get updated.here is another example'''\n",
        "floatVariable = 2.5\n",
        "print('memory address before updating floatvar: ', id(floatVariable))\n",
        "# Updating an immutable object by assigning a new value to it.\n",
        "# It will now refer to the new object and defer the previously created object.\n",
        "\n",
        "floatVariable = 10.0\n",
        "print('memory address after updating floatvar: ', id(floatVariable))\n",
        "\n",
        "#The output for both times is different.\n",
        "#This implies that the floats are immutable in nature as another object of integer was created and referenced on updating its value.\n"
      ],
      "metadata": {
        "id": "P6eUvxnnA1Z4",
        "colab": {
          "base_uri": "https://localhost:8080/"
        },
        "outputId": "621ac720-3e8c-4a1d-e45e-ab4512e661c4"
      },
      "execution_count": null,
      "outputs": [
        {
          "output_type": "stream",
          "name": "stdout",
          "text": [
            "[100, 2, 3]\n",
            "{'ram': '2018'}\n",
            "{11, 12, 13, 14}\n",
            "memory address before updating var:  139460196090704\n",
            "memory address after updating var:  139460196091024\n",
            "memory address before updating floatvar:  139459417571600\n",
            "memory address after updating floatvar:  139459769417360\n"
          ]
        }
      ]
    },
    {
      "cell_type": "code",
      "source": [
        "'''Q9. Write a code to create the given structure using only for loop.\n",
        "     *\n",
        "    ***\n",
        "   *****\n",
        "  *******\n",
        " *********'''\n",
        "\n",
        "rows = 5\n",
        "\n",
        "for i in range(1, rows + 1):\n",
        "    # Print spaces before the stars\n",
        "    for j in range(rows - i):\n",
        "        print(\" \", end=\"\")\n",
        "\n",
        "    # Print '*' in each row\n",
        "    for k in range(2 * i - 1):\n",
        "        print(\"*\", end=\"\")\n",
        "\n",
        "    # Move to the next line after printing '*' in each row\n",
        "    print()\n"
      ],
      "metadata": {
        "colab": {
          "base_uri": "https://localhost:8080/"
        },
        "id": "R9Xgj2zcJJFO",
        "outputId": "cccfe415-429a-40bd-edc3-237cc235748b"
      },
      "execution_count": null,
      "outputs": [
        {
          "output_type": "stream",
          "name": "stdout",
          "text": [
            "    *\n",
            "   ***\n",
            "  *****\n",
            " *******\n",
            "*********\n"
          ]
        }
      ]
    },
    {
      "cell_type": "code",
      "source": [
        "'''Q.10. Write a code to create the given structure using while loop.\n",
        "     |||||||||\n",
        "      |||||||\n",
        "       |||||\n",
        "        |||\n",
        "         |       '''\n",
        "\n",
        "rows = 5\n",
        "spaces = 0\n",
        "stars = 2 * rows - 1\n",
        "\n",
        "while rows > 0:\n",
        "    # Print spaces before the stars\n",
        "    space_count = 0\n",
        "    while space_count < spaces:\n",
        "        print(\" \", end=\"\")\n",
        "        space_count += 1\n",
        "\n",
        "    # Print '*' in each row\n",
        "    star_count = 0\n",
        "    while star_count < stars:\n",
        "        print(\"|\", end=\"\")\n",
        "        star_count += 1\n",
        "\n",
        "    # Move to the next line after printing '*' in each row\n",
        "    print()\n",
        "\n",
        "    spaces += 1\n",
        "    stars -= 2\n",
        "    rows -= 1\n"
      ],
      "metadata": {
        "colab": {
          "base_uri": "https://localhost:8080/"
        },
        "id": "_Z9y2QlCLxnb",
        "outputId": "8a421c61-026f-42a0-e238-3e153d8283e7"
      },
      "execution_count": null,
      "outputs": [
        {
          "output_type": "stream",
          "name": "stdout",
          "text": [
            "|||||||||\n",
            " |||||||\n",
            "  |||||\n",
            "   |||\n",
            "    |\n"
          ]
        }
      ]
    },
    {
      "cell_type": "markdown",
      "source": [],
      "metadata": {
        "id": "bMRNpdqy_ZoX"
      }
    }
  ]
}