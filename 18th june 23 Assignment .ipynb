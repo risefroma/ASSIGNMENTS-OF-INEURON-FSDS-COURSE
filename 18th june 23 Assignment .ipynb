{
 "cells": [
  {
   "cell_type": "markdown",
   "id": "86d57118-1dea-49eb-8245-13eb48ce8293",
   "metadata": {},
   "source": [
    "**1.What is the role of the 'else' block in a try-except statement? Provide an example scenario where it would be useful**\n",
    "\n",
    "*The else block in a try-except statement is used to define a block of code that will only be executed if no exceptions were raised in the try block.\n",
    "*If an exception is raised, the else block will be skipped. This can be useful for running code that should only run if the try block is successful."
   ]
  },
  {
   "cell_type": "code",
   "execution_count": 11,
   "id": "bd4def87-8c97-4b80-ae8f-d18f491a94c2",
   "metadata": {},
   "outputs": [
    {
     "name": "stdout",
     "output_type": "stream",
     "text": [
      "Division successful. The result is: 5.0\n",
      "Error: Cannot divide by zero.\n"
     ]
    }
   ],
   "source": [
    "def divide(a, b):\n",
    "    try:\n",
    "        result = a / b\n",
    "    except ZeroDivisionError:\n",
    "        print(\"Error: Cannot divide by zero.\")\n",
    "    except ValueError:\n",
    "        print(\"Invalid Input !\")\n",
    "    else:\n",
    "        # This block runs only if no exceptions were raised in the try block\n",
    "        print(\"Division successful. The result is:\", result)\n",
    "\n",
    "divide(10, 2)  #division operation succeeds, so the else block is executed, printing the result.\n",
    "divide(10, 0) #ZeroDivisionError is raised, so the except block handles the error, and the else block is skipped.\n"
   ]
  },
  {
   "cell_type": "markdown",
   "id": "5a209f43-3f49-4c7b-9e02-cf55be533d86",
   "metadata": {},
   "source": [
    "**2.Can a try-except block be nested inside another try-except block? Explain with an example.**\n",
    "\n",
    "Yes, a try-except block can be nested inside another try-except block. This is useful when we have a complex series of operations where different exceptions might be raised at different levels of the operation, and we want to handle them separately.\n",
    "\n",
    "Nested try-except blocks enable our program to degrade gracefully. If an error occurs in one part of the program, we can handle it and decide whether to continue execution or abort the operation. This ensures that a single error doesn't crash the entire program."
   ]
  },
  {
   "cell_type": "code",
   "execution_count": 12,
   "id": "4c91ae10-1c12-4498-93bb-093ad1e308ef",
   "metadata": {},
   "outputs": [
    {
     "name": "stdout",
     "output_type": "stream",
     "text": [
      "Outer try block\n",
      "Inner try block\n",
      "Inner Else Block: Division Successful\n"
     ]
    },
    {
     "name": "stdin",
     "output_type": "stream",
     "text": [
      "Enter a number to add to result :  3\n"
     ]
    },
    {
     "name": "stdout",
     "output_type": "stream",
     "text": [
      "output is 3.7142857142857144\n",
      "**************************************************************\n",
      "Outer try block\n",
      "Inner try block\n",
      "Inner Except Block : cant Divide by zero !\n",
      "**************************************************************\n",
      "Outer try block\n",
      "Inner try block\n",
      "outer except block : Error occured unsupported operand type(s) for /: 'int' and 'str'\n"
     ]
    }
   ],
   "source": [
    "def operation(x,y):\n",
    "  try:\n",
    "    print(\"Outer try block\")\n",
    "    try:\n",
    "      print(\"Inner try block\")\n",
    "      result = x/y\n",
    "    except ZeroDivisionError:\n",
    "      print(\"Inner Except Block : cant Divide by zero !\")\n",
    "      return None  # Return early or handle the error\n",
    "    else:\n",
    "      print(\"Inner Else Block: Division Successful\")\n",
    "\n",
    "    number = int(input(\"Enter a number to add to result : \"))\n",
    "    output = result + number\n",
    "    print(\"output is\",output)\n",
    "\n",
    "  except Exception as e:\n",
    "    print(f\"outer except block : Error occured {e}\")\n",
    "\n",
    "\n",
    "operation(5,7)\n",
    "print(\"**************************************************************\")\n",
    "operation(9,0)\n",
    "print(\"**************************************************************\")\n",
    "operation(7,\"five\")"
   ]
  },
  {
   "cell_type": "code",
   "execution_count": 1,
   "id": "774d56af-5600-4a72-b90b-311448c72f57",
   "metadata": {},
   "outputs": [
    {
     "name": "stdout",
     "output_type": "stream",
     "text": [
      "Caught an exception: -5 -> Age must be between 0 and 120\n"
     ]
    }
   ],
   "source": [
    "#3.How can you create a custom exception class in Python? Provide an example that demonstrates its usage.\n",
    "class InvalidAgeError(Exception):\n",
    "    \"\"\"Exception raised for errors in the input age.\"\"\"\n",
    "    \n",
    "    def __init__(self, age, message=\"Age must be between 0 and 120\"):\n",
    "        self.age = age\n",
    "        self.message = message\n",
    "        super().__init__(self.message)\n",
    "\n",
    "    def __str__(self):\n",
    "        return f'{self.age} -> {self.message}'\n",
    "\n",
    "def check_age(age):\n",
    "    if age < 0 or age > 120:\n",
    "        raise InvalidAgeError(age)\n",
    "    print(\"Valid age!\")\n",
    "\n",
    "try:\n",
    "    check_age(-5)\n",
    "except InvalidAgeError as e:\n",
    "    print(f\"Caught an exception: {e}\")\n",
    "\n"
   ]
  },
  {
   "cell_type": "markdown",
   "id": "c040fa16-a6e1-4e63-8ffd-1dfc9d6b5cea",
   "metadata": {},
   "source": [
    "**4. What are some common exceptions that are built-in to Python?**\n",
    "ZeroDivisionError: Raised when the second argument of a division or modulo operation is zero.\n",
    "\n",
    "TypeError: Raised when an operation or function is applied to an object of inappropriate type.\n",
    "\n",
    "ValueError: Raised when a built-in operation or function receives an argument that has the right type but an inappropriate value.\n",
    "\n",
    "IndexError: Raised when a sequence subscript is out of range.\n",
    "\n",
    "KeyError: Raised when a dictionary key is not found.\n",
    "\n",
    "FileNotFoundError: Raised when a file or directory is requested but doesn’t exist.\n",
    "\n",
    "IOError: Raised when an I/O operation (such as a print statement, the built-in open() function or a method of a file object) fails for an I/O-related reason.\n",
    "\n",
    "ImportError: Raised when an import statement fails to find the module definition or when a from ... import fails to find a name that is to be imported.\n",
    "\n",
    "MemoryError: Raised when an operation runs out of memory.\n",
    "\n",
    "OverflowError: Raised when the result of an arithmetic operation is too large to be expressed by the normal number format.\n",
    "\n",
    "AttributeError: Raised when an attribute reference or assignment fails.\n",
    "\n",
    "SyntaxError: Raised when the parser encounters a syntax error.\n",
    "\n",
    "IndentationError: Raised when there is incorrect indentation.\n",
    "\n",
    "NameError: Raised when a local or global name is not found."
   ]
  },
  {
   "cell_type": "markdown",
   "id": "3eca772c-7f0a-48b9-a542-8632397b93a4",
   "metadata": {},
   "source": [
    "**5. What is logging in Python, and why is it important in software development?**\n",
    "Logging in Python is the process of recording messages that track the execution of a program. These messages can be used for debugging, monitoring, and understanding the behavior of an application. Python provides a built-in module named logging to facilitate logging.\n",
    "Importance of Logging in Software Development:\n",
    "\n",
    "Debugging: Logging provides insights into the flow of the program and the values of variables at different points in time. This helps developers identify and fix bugs more efficiently than using print statements\n",
    "\n",
    "Monitoring: Logging enables continuous monitoring of an application in production. It helps in keeping track of the application's performance, detecting anomalies, and identifying potential issues before they become critical.\n",
    "\n",
    "Audit Trail: Logging provides a historical record of events that have occurred within an application. This is useful for auditing purposes, where you need to know who did what and when.\n",
    "\n",
    "Error Reporting: When an error occurs, logging can capture the context and details of the error, making it easier to diagnose and resolve the issue. This is especially valuable for remote or unattended applications.\n",
    "\n",
    "Security: Logging can help detect and respond to security incidents by recording unauthorized access attempts, unusual activities, and other security-related events.\n",
    "\n",
    "Here are the different log levels in increasing order of severity:\n",
    "\n",
    "DEBUG: Detailed information, typically of interest only when diagnosing problems.\n",
    "\n",
    "INFO: Confirmation that things are working as expected.\n",
    "\n",
    "WARNING: An indication that something unexpected happened, or may happen in the future (e.g. ‘disk space low’). The software is still working as expected.\n",
    "\n",
    "ERROR: More serious problem that prevented the software from performing a function.\n",
    "\n",
    "CRITICAL: A very serious error, indicating that the program itself may be unable to continue running."
   ]
  },
  {
   "cell_type": "code",
   "execution_count": 13,
   "id": "6eaf314a-f92d-4435-bab2-7b93ea0f3df6",
   "metadata": {},
   "outputs": [
    {
     "name": "stderr",
     "output_type": "stream",
     "text": [
      "2024-07-23 15:27:24,400 - root - DEBUG - Starting the data processing function with parameters x=2, y=5\n",
      "2024-07-23 15:27:24,401 - root - INFO - User Admin User logged in\n",
      "2024-07-23 15:27:24,401 - root - WARNING - Sorry you have Low balance: 10000\n",
      "2024-07-23 15:27:24,402 - root - ERROR - Division by zero not allowed\n",
      "2024-07-23 15:27:24,403 - root - CRITICAL - System out of memory /storage full. Shutting down.\n"
     ]
    }
   ],
   "source": [
    "'''6.Explain the purpose of log levels in Python logging and provide examples of when each log level would be appropriate\n",
    "\n",
    "Log Levels and Their Purposes:'\n",
    "\n",
    "DEBUG: Detailed information, typically of interest only when diagnosing problems. It provides granular insights into the application's flow and state.'''\n",
    "\n",
    "#Example: Logging the variable values, and detailed operational information.\n",
    "import logging\n",
    "logging.basicConfig(level=logging.DEBUG)\n",
    "def debug_example(x,y):\n",
    "  logging.debug(\"Starting the data processing function with parameters x=%d, y=%d\", x, y)\n",
    "\n",
    "debug_example(2,5)\n",
    "\n",
    "#INFO: Purpose: Confirmation that things are working as expected. This level is used to report normal operations of the application.\n",
    "#Example: Logging successful completion of a task, high-level operations, or key state changes.\n",
    "\n",
    "logging.basicConfig(level=logging.INFO)\n",
    "def login(username):\n",
    "    logging.info('User %s logged in', username)\n",
    "\n",
    "login('Admin User')\n",
    "\n",
    "'''WARNING:Indication that something unexpected happened, or indicative of some problem in the near future (e.g., 'disk space low').\n",
    "The software is still working as expected.'''\n",
    "#eg :\n",
    "\n",
    "logging.basicConfig(level=logging.WARNING)\n",
    "def MyBalance(amount):\n",
    "    if amount < 40000:\n",
    "        logging.warning('Sorry you have Low balance: %s', amount)\n",
    "\n",
    "MyBalance(10000)\n",
    "\n",
    "'''ERROR: Due to a more serious problem, the software has not been able to perform some function.\n",
    "Example: Logging an error that prevents a function from executing properly, exceptions that are caught, or failures in specific operations.'''\n",
    "\n",
    "logging.basicConfig(level=logging.ERROR)\n",
    "def Divide(n, d):\n",
    "    try:\n",
    "        r = n / d\n",
    "    except ZeroDivisionError:\n",
    "        logging.error('Division by zero not allowed')\n",
    "    else:\n",
    "        return r\n",
    "\n",
    "Divide(4, 0)\n",
    "\n",
    "\n",
    "'''CRITICAL: A very serious error, indicating that the program itself may be unable to continue running.\n",
    "Example: Logging system failures, unrecoverable errors, or events that require immediate attention.'''\n",
    "\n",
    "logging.basicConfig(level=logging.CRITICAL)\n",
    "def System(sys):\n",
    "    if sys != 'ok':\n",
    "        logging.critical(\"System out of memory %s. Shutting down.\",sys)\n",
    "\n",
    "System(\"/storage full\")\n",
    "\n",
    "#log Message format - LEVEL:LOGGER NAME:MESSAGE"
   ]
  },
  {
   "cell_type": "markdown",
   "id": "30da727e-27bb-4a50-ba07-03357d888d55",
   "metadata": {},
   "source": [
    "**7. What are log formatters in Python logging, and how can you customise the log message format using formatters?**\n",
    "\n",
    "Log formatters in Python logging are used to specify the layout of the log messages. They allow you to define the structure and content of the log output, making it more readable and useful for debugging and monitoring purposes. We can customize the log message format using formatters to include various details like the timestamp, log level, module name, line number, and the actual log message\n",
    "\n",
    "%(asctime)s: The date and time when the log message was created. %(name)s: The name of the logger used to log the message. %(levelname)s: The log level of the message (e.g., DEBUG, INFO, WARNING, ERROR, CRITICAL). %(message)s: The actual log message."
   ]
  },
  {
   "cell_type": "code",
   "execution_count": 14,
   "id": "b722f591-8945-4ec9-8838-8f8fe8da5ee1",
   "metadata": {},
   "outputs": [
    {
     "name": "stderr",
     "output_type": "stream",
     "text": [
      "2024-07-23 15:28:08,658 - root - DEBUG - This is a debug message.\n",
      "2024-07-23 15:28:08,660 - root - INFO - This is an info message.\n",
      "2024-07-23 15:28:08,660 - root - WARNING - This is a warning message.\n",
      "2024-07-23 15:28:08,661 - root - ERROR - This is an error message.\n",
      "2024-07-23 15:28:08,662 - root - CRITICAL - This is a critical message.\n"
     ]
    }
   ],
   "source": [
    "\n",
    "import logging\n",
    "\n",
    "# custom format for the log messages\n",
    "log_format = '%(asctime)s - %(name)s - %(levelname)s - %(message)s'\n",
    "\n",
    "# logging system\n",
    "logging.basicConfig(level=logging.DEBUG, format=log_format)\n",
    "\n",
    "# Example log messages\n",
    "logging.debug(\"This is a debug message.\")\n",
    "logging.info(\"This is an info message.\")\n",
    "logging.warning(\"This is a warning message.\")\n",
    "logging.error(\"This is an error message.\")\n",
    "logging.critical(\"This is a critical message.\")\n"
   ]
  },
  {
   "cell_type": "code",
   "execution_count": 16,
   "id": "95c81120-c52b-418f-8922-81d7033ced61",
   "metadata": {},
   "outputs": [
    {
     "name": "stderr",
     "output_type": "stream",
     "text": [
      "2024-07-23 15:28:44,290 - __main__ - INFO - Starting the main script.\n",
      "2024-07-23 15:28:44,291 - module1 - DEBUG - Debug message from module1.\n",
      "2024-07-23 15:28:44,292 - module1 - INFO - Info message from module1.\n",
      "2024-07-23 15:28:44,292 - module1 - WARNING - Warning message from module1.\n",
      "2024-07-23 15:28:44,293 - module1 - ERROR - Error message from module1.\n",
      "2024-07-23 15:28:44,294 - module1 - CRITICAL - Critical message from module1.\n",
      "2024-07-23 15:28:44,295 - module2 - DEBUG - Debug message from module2.\n",
      "2024-07-23 15:28:44,296 - module2 - INFO - Info message from module2.\n",
      "2024-07-23 15:28:44,296 - module2 - WARNING - Warning message from module2.\n",
      "2024-07-23 15:28:44,297 - module2 - ERROR - Error message from module2.\n",
      "2024-07-23 15:28:44,297 - module2 - CRITICAL - Critical message from module2.\n"
     ]
    }
   ],
   "source": [
    "\n",
    "#8.How can you set up logging to capture log messages from multiple modules or classes in a Python application?\n",
    "#main script (main.py) that will configure the logging system.\n",
    "\n",
    "import logging\n",
    "import module1\n",
    "import module2\n",
    "\n",
    "def configure_logging():\n",
    "    log_format = '%(asctime)s - %(name)s - %(levelname)s - %(message)s'\n",
    "    logging.basicConfig(level=logging.DEBUG, format=log_format)\n",
    "\n",
    "def main():\n",
    "    configure_logging()\n",
    "    \n",
    "    logger = logging.getLogger(__name__)\n",
    "    logger.info(\"Starting the main script.\")\n",
    "    \n",
    "    module1.run()\n",
    "    module2.run()\n",
    "\n",
    "if __name__ == \"__main__\":\n",
    "    main()\n",
    "\n",
    "# first module (module1.py) that will log some messages.\n",
    "# module1.py\n",
    "import logging\n",
    "\n",
    "def run():\n",
    "    logger = logging.getLogger(__name__)\n",
    "    logger.debug(\"Debug message from module1.\")\n",
    "    logger.info(\"Info message from module1.\")\n",
    "    logger.warning(\"Warning message from module1.\")\n",
    "    logger.error(\"Error message from module1.\")\n",
    "    logger.critical(\"Critical message from module1.\")\n",
    "    \n",
    "#second module (module2.py) that will log some messages.\n",
    "# module2.py\n",
    "import logging\n",
    "\n",
    "def run():\n",
    "    logger = logging.getLogger(__name__)\n",
    "    logger.debug(\"Debug message from module2.\")\n",
    "    logger.info(\"Info message from module2.\")\n",
    "    logger.warning(\"Warning message from module2.\")\n",
    "    logger.error(\"Error message from module2.\")\n",
    "    logger.critical(\"Critical message from module2.\")\n"
   ]
  },
  {
   "cell_type": "code",
   "execution_count": 17,
   "id": "449fac5d-b50b-4c6b-8791-51215e9e19ad",
   "metadata": {},
   "outputs": [
    {
     "name": "stderr",
     "output_type": "stream",
     "text": [
      "2024-07-25 11:38:26,545 - __main__ - INFO - Starting the main script.\n",
      "2024-07-25 11:38:26,546 - module1 - DEBUG - Debug message from module1.\n",
      "2024-07-25 11:38:26,546 - module1 - INFO - Info message from module1.\n",
      "2024-07-25 11:38:26,550 - module1 - WARNING - Warning message from module1.\n",
      "2024-07-25 11:38:26,550 - module1 - ERROR - Error message from module1.\n",
      "2024-07-25 11:38:26,557 - module1 - CRITICAL - Critical message from module1.\n",
      "2024-07-25 11:38:26,558 - module2 - DEBUG - Debug message from module2.\n",
      "2024-07-25 11:38:26,558 - module2 - INFO - Info message from module2.\n",
      "2024-07-25 11:38:26,560 - module2 - WARNING - Warning message from module2.\n",
      "2024-07-25 11:38:26,560 - module2 - ERROR - Error message from module2.\n",
      "2024-07-25 11:38:26,566 - module2 - CRITICAL - Critical message from module2.\n"
     ]
    }
   ],
   "source": [
    "main()"
   ]
  },
  {
   "cell_type": "markdown",
   "id": "45e67fa1-9b28-4fda-9c0e-f84bc000ef94",
   "metadata": {},
   "source": [
    "9. what is the difference between the logging and print statements in Python?\n",
    "When should you use logging over print statements in a real-world application\n",
    "\n",
    "Purpose:\n",
    "Print: Used for simple output to the console. It is primarily meant for displaying information to the user during development or for simple debugging purposes.\n",
    "Logging: Designed for recording events that happen during the execution of a program. It is intended for tracking and debugging complex applications in a structured manner.\n",
    "Flexibility:\n",
    "\n",
    "Print: Limited to outputting messages to the console.\n",
    "Logging: Highly configurable. You can direct log messages to different destinations (console, files, remote servers, etc.), and filter messages based on severity levels (DEBUG, INFO, WARNING, ERROR, CRITICAL).\n",
    "Severity Levels:\n",
    "\n",
    "Print: All messages are treated equally.\n",
    "Logging: Messages can be categorized by severity levels, making it easier to filter and handle different kinds of events appropriately.\n",
    "Configurability:\n",
    "\n",
    "Print: No built-in support for message formatting or customization.\n",
    "Logging: Supports advanced configuration including formatting of messages, adding contextual information, and defining handlers for different output streams.\n",
    "Performance:\n",
    "\n",
    "Print: Can be less efficient for high-frequency logging because it always outputs to the console, which can slow down the program.\n",
    "Logging: More efficient and can be configured to minimize performance impact, such as by batching log messages or adjusting the logging level\n",
    "\n",
    "\n",
    "\n",
    "**When to Use Logging Over Print**\n",
    "**Production Applications:**\n",
    "Use logging in production applications to record events, errors, and other significant occurrences. It helps in monitoring the application and diagnosing issues after deployment.\n",
    "\n",
    "**Debugging:**\n",
    "While print can be used for quick debugging, logging provides more context and control over the output, making it more useful for debugging complex applications.\n",
    "\n",
    "**Scalability:**\n",
    "In large or distributed applications, logging allows you to collect and aggregate logs from multiple sources, making it easier to manage and analyze logs.\n",
    "\n",
    "**Maintaining Code:**\n",
    "logging makes it easier to manage and maintain code by providing a standardized way of outputting diagnostic information, which can be enabled or disabled as needed.\n",
    "\n",
    "**Compliance and Auditing:**\n",
    "Many applications require maintaining logs for compliance and auditing purposes. The logging module provides the necessary features to meet these requirements.\n",
    "\n"
   ]
  },
  {
   "cell_type": "code",
   "execution_count": 1,
   "id": "3f711c83-9cc8-4d50-b10d-5df89ed2332e",
   "metadata": {},
   "outputs": [],
   "source": [
    "'''10.Write a Python program that logs a message to a file named \"app.log\" with the\n",
    "following requirements:\n",
    "● The log message should be \"Hello, World!\"\n",
    "● The log level should be set to \"INFO.\"\n",
    "● The log file should append new log entries without overwriting previous ones.'''\n",
    "\n",
    "import logging\n",
    "\n",
    "def configure_logging():\n",
    "    # Configure logging to log to a file named 'app.log'\n",
    "    logging.basicConfig(\n",
    "        filename='app.log',       # File to write logs to\n",
    "        filemode='a',             # Append mode\n",
    "        level=logging.INFO,       # Set the log level to INFO\n",
    "        format='%(asctime)s - %(levelname)s - %(message)s'  # Log format\n",
    "    )\n",
    "\n",
    "def main():\n",
    "    configure_logging()\n",
    "    \n",
    "    # Get the logger for the current module\n",
    "    logger = logging.getLogger(__name__)\n",
    "    \n",
    "    # Log the message \"Hello, World!\"\n",
    "    logger.info(\"Hello, World!\")\n",
    "\n",
    "if __name__ == \"__main__\":\n",
    "    main()\n",
    "\n",
    "#output in app.log file - 2024-07-25 12:38:26,328 - INFO - Hello, World!"
   ]
  },
  {
   "cell_type": "code",
   "execution_count": 2,
   "id": "1740a59e-e0a3-4c8e-9005-054f90e08cba",
   "metadata": {},
   "outputs": [
    {
     "name": "stderr",
     "output_type": "stream",
     "text": [
      "2024-08-25 23:42:11,759 - ERROR - An exception of type ZeroDivisionError occurred. Arguments: ('division by zero',)\n"
     ]
    }
   ],
   "source": [
    "'''11. Create a Python program that logs an error message to the console and a file named\n",
    "\"errors.log\" if an exception occurs during the program's execution. The error\n",
    "message should include the exception type and a timestamp.'''\n",
    "\n",
    "import logging\n",
    "import datetime\n",
    "\n",
    "# Configure logging\n",
    "logging.basicConfig(\n",
    "    level=logging.ERROR, \n",
    "    format='%(asctime)s - %(levelname)s - %(message)s',\n",
    "    handlers=[\n",
    "        logging.FileHandler(\"errors.log\"),\n",
    "        logging.StreamHandler()\n",
    "    ]\n",
    ")\n",
    "\n",
    "def risky_operation():\n",
    "    # Example code that could raise an exception\n",
    "    return 10 / 0  # This will raise a ZeroDivisionError\n",
    "\n",
    "try:\n",
    "    result = risky_operation()\n",
    "except Exception as e:\n",
    "    # Log the error with exception type and timestamp\n",
    "    logging.error(f\"An exception of type {type(e).__name__} occurred. Arguments: {e.args}\")\n"
   ]
  },
  {
   "cell_type": "code",
   "execution_count": null,
   "id": "4424af51-def7-48bf-98c1-fb0a5b7292ef",
   "metadata": {},
   "outputs": [],
   "source": []
  }
 ],
 "metadata": {
  "kernelspec": {
   "display_name": "Python 3 (ipykernel)",
   "language": "python",
   "name": "python3"
  },
  "language_info": {
   "codemirror_mode": {
    "name": "ipython",
    "version": 3
   },
   "file_extension": ".py",
   "mimetype": "text/x-python",
   "name": "python",
   "nbconvert_exporter": "python",
   "pygments_lexer": "ipython3",
   "version": "3.12.4"
  }
 },
 "nbformat": 4,
 "nbformat_minor": 5
}
