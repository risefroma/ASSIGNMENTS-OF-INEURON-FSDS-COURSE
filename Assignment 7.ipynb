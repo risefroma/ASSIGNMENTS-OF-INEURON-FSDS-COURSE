{
  "nbformat": 4,
  "nbformat_minor": 0,
  "metadata": {
    "colab": {
      "provenance": []
    },
    "kernelspec": {
      "name": "python3",
      "display_name": "Python 3"
    },
    "language_info": {
      "name": "python"
    }
  },
  "cells": [
    {
      "cell_type": "code",
      "execution_count": 5,
      "metadata": {
        "colab": {
          "base_uri": "https://localhost:8080/"
        },
        "id": "BcUtROYGz0So",
        "outputId": "d1008858-bfa3-4282-82e6-d5141b2d2400"
      },
      "outputs": [
        {
          "output_type": "stream",
          "name": "stdout",
          "text": [
            "First variable is 8 & second variable is 5\n",
            "Addition: 8 + 5 = 13\n",
            "Subtraction: 8 - 5 = 3\n",
            "Multiplication: 8 * 5 = 40\n",
            "Division: 8 / 5 = 1.6\n"
          ]
        }
      ],
      "source": [
        "'''Q.1. Create two int type variables, apply addition, subtraction, division and multiplications\n",
        "and store the results in variables. Then print the data in the following format by calling the\n",
        "variables:\n",
        "First variable is __ & second variable is __.\n",
        "Addition: __ + __ = __\n",
        "Subtraction: __ - __ = __\n",
        "Multiplication: __ * __ = __\n",
        "Division: __ / __ = __'''\n",
        "\n",
        "var1 = 8 #two int type variables\n",
        "var2 = 5\n",
        "\n",
        "# Perform addition, subtraction, multiplication, and division\n",
        "addition_result = var1 + var2\n",
        "subtraction_result = var1 - var2\n",
        "multiplication_result = var1 * var2\n",
        "\n",
        "# Checking for division by zero before performing division\n",
        "if var2 != 0:\n",
        "    division_result = var1 / var2\n",
        "else:\n",
        "    division_result = \"Undefined (division by zero)\"\n",
        "\n",
        "# Printing the results in the specified format\n",
        "print(\"First variable is\", var1, \"& second variable is\", var2)\n",
        "print(\"Addition:\", var1, \"+\", var2, \"=\", addition_result)\n",
        "print(\"Subtraction:\", var1, \"-\", var2, \"=\", subtraction_result)\n",
        "print(\"Multiplication:\", var1, \"*\", var2, \"=\", multiplication_result)\n",
        "print(\"Division:\", var1, \"/\", var2, \"=\", division_result)"
      ]
    },
    {
      "cell_type": "code",
      "source": [
        "'''Q.2. What is the difference between the following operators:\n",
        "(i) '/' & '//'\n",
        "(ii) '*' & '^'\n",
        "\n",
        "/ is the division operator . It performs regular division and returns a floating-point result.\n",
        "// is the floor division operator. It performs division and rounds down the result to the nearest whole number, returning an integer.'''\n",
        "\n",
        "eg1= 7 / 3  # output will be 2.333...\n",
        "print(\"eg1 : \",eg1)\n",
        "eg2= 7 // 3  # output will be 2\n",
        "print(\"eg2 : \",eg2)\n",
        "\n",
        "'''(ii) Difference between '**' and '^':\n",
        "\n",
        "** is the exponentiation operator. It raises the left operand to the power of the right operand.\n",
        "^ is the bitwise XOR (exclusive OR) operator. It performs bitwise XOR operation on the individual bits of the operands.\n",
        "Example: '''\n",
        "a1 = 2 ** 3 # output will be 8 (2 raised to the power of 3)\n",
        "print(\"a1: \",a1)\n",
        "a2 = 5 ^ 3   # Binary: 101 ^ 011 = 110(6)  output will be 6 (bitwise XOR of 5 and 3)\n",
        "print(\"a2: \",a2)"
      ],
      "metadata": {
        "colab": {
          "base_uri": "https://localhost:8080/"
        },
        "id": "3YJ99N_W1LOA",
        "outputId": "9b5244c8-ebbf-4bac-e246-10b76a3de051"
      },
      "execution_count": 15,
      "outputs": [
        {
          "output_type": "stream",
          "name": "stdout",
          "text": [
            "eg1 :  2.3333333333333335\n",
            "eg2 :  2\n",
            "a1:  8\n",
            "a2:  6\n"
          ]
        }
      ]
    },
    {
      "cell_type": "code",
      "source": [
        "'''Q.3. List the logical operators.\n",
        "The logical opeartors are AND OR and NOT\n",
        "AND Operator (and):\n",
        "Returns True if both conditions are true, otherwise False.\n",
        "Operand1         Operand2          operand 1 AND operand 2\n",
        "True(1)          True(1)              True(1)\n",
        "True(1)          False(0)             False(0)\n",
        "False(0)         True(1)              False(0)\n",
        "False(0)         False(0)             False(0)\n",
        "\n",
        "OR Operator (or):\n",
        "Returns True if at least one condition is true, otherwise False.\n",
        "Operand1         Operand2          operand 1 OR operand 2\n",
        "True(1)          True(1)              True(1)\n",
        "True(1)          False(0)             True(1)\n",
        "False(0)         True(1)              True(1)\n",
        "False(0)         False(0)             False(0)\n",
        "\n",
        "NOT operator(not):\n",
        "Returns True if the condition is false, and vice versa.\n",
        "Operand          Not(Operand)\n",
        "True(1)          False(0)\n",
        "False(0)         True(1)  '''\n",
        "\n",
        "# Python program to demonstrate logical oprator\n",
        "\n",
        "a = 10\n",
        "b = 20\n",
        "c = -9\n",
        "if a > 0 and b > 0:\n",
        "    print(\"The numbers are greater than 0\")\n",
        "if a > 0 and b > 0 and c > 0:\n",
        "    print(\"The numbers are greater than 0\")\n",
        "else:\n",
        "    print(\"Atleast one number is not greater than 0\")"
      ],
      "metadata": {
        "colab": {
          "base_uri": "https://localhost:8080/"
        },
        "id": "udr26ubN5PxW",
        "outputId": "fcc695cb-789a-42bc-c3c5-5ab108bec9fb"
      },
      "execution_count": 22,
      "outputs": [
        {
          "output_type": "stream",
          "name": "stdout",
          "text": [
            "The numbers are greater than 0\n",
            "Atleast one number is not greater than 0\n"
          ]
        }
      ]
    },
    {
      "cell_type": "code",
      "source": [
        "'''Q.4. Explain right shift operator and left shift operator with examples\n",
        "The right shift (>>) and left shift (<<) operators are used for bitwise shifting of binary representations of integers.\n",
        "These operators move the bits of a binary number to the right or left by a specified number of positions.\n",
        "\n",
        "The right shift (>>):\n",
        "The right shift operator shifts the bits to the right by a specified number of positions.\n",
        "It fills the vacant positions with the sign bit (0 for positive numbers, 1 for negative numbers).\n",
        "Example:'''\n",
        "# Right shift by 2 positions\n",
        "num = 16  # Binary: 10000\n",
        "\n",
        "res = num >> 2  # Binary: 00100\n",
        "print(res)      # Output: 4\n",
        "\n",
        "#Left Shift Operator (<<):\n",
        "#The left shift operator shifts the bits to the left by a specified number of positions. It fills the vacant positions with zeros.\n",
        "\n",
        "# Left shift by 3 positions\n",
        "number = 5  # Binary: 00101\n",
        "res1 = number << 3  # Binary: 01000\n",
        "print(res1)      # Output: 40\n"
      ],
      "metadata": {
        "colab": {
          "base_uri": "https://localhost:8080/"
        },
        "id": "ojWQehjX7vuW",
        "outputId": "16c3e488-ae21-4ab5-b365-8402b299dfe4"
      },
      "execution_count": 25,
      "outputs": [
        {
          "output_type": "stream",
          "name": "stdout",
          "text": [
            "4\n",
            "40\n"
          ]
        }
      ]
    },
    {
      "cell_type": "code",
      "source": [
        "#Q.5. Create a list containing int type data of length 15. Then write a code to check if 10 is present in the list or not.\n",
        "list1 = [1,8,9,5,10,56,96,15,936,45,41,85,256,69,63]\n",
        "print(\"length of list is\",len(list1))\n",
        "\n",
        "if 10 in list1:\n",
        "  print(\"10 is present in the list\")\n",
        "else:\n",
        "  print(\"10 is not present in the list\")"
      ],
      "metadata": {
        "colab": {
          "base_uri": "https://localhost:8080/"
        },
        "id": "8aAH-qvI-lED",
        "outputId": "0bd8c73c-bf0e-4b05-9d17-3620c9c0b6cb"
      },
      "execution_count": 33,
      "outputs": [
        {
          "output_type": "stream",
          "name": "stdout",
          "text": [
            "length of list is 15\n",
            "10 is present in the list\n"
          ]
        }
      ]
    }
  ]
}